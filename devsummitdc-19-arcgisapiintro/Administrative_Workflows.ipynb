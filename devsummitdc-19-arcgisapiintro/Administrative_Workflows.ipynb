{
 "cells": [
  {
   "cell_type": "markdown",
   "metadata": {
    "slideshow": {
     "slide_type": "slide"
    }
   },
   "source": [
    "# <span style=\"color:purple\">ArcGIS API for Python</span>\n",
    "\n",
    "<img src=\"images/Users_02_Admin.PNG\" style=\"width:75%\"></img>\n",
    "\n",
    "## Demo: Administrative Management of Users, Roles & Groups"
   ]
  },
  {
   "cell_type": "markdown",
   "metadata": {},
   "source": [
    "### We will go over a few workflows to show how the ArcGIS API can help administrators of Web GIS."
   ]
  },
  {
   "cell_type": "markdown",
   "metadata": {},
   "source": [
    "Let's import a few modules. We are importing getpass to provide the GIS object with a password in a safe manner."
   ]
  },
  {
   "cell_type": "code",
   "execution_count": 1,
   "metadata": {},
   "outputs": [],
   "source": [
    "from arcgis.gis import *\n",
    "from getpass import getpass\n",
    "from IPython.display import display"
   ]
  },
  {
   "cell_type": "markdown",
   "metadata": {},
   "source": [
    "Let's call our GIS object and pass a local Portal."
   ]
  },
  {
   "cell_type": "code",
   "execution_count": 2,
   "metadata": {},
   "outputs": [
    {
     "name": "stdout",
     "output_type": "stream",
     "text": [
      "········\n"
     ]
    }
   ],
   "source": [
    "password = getpass()\n",
    "gis = GIS(\"https://martinez10.esri.com/arcgis/home/\", \"dmart\", password, verify_cert=False)"
   ]
  },
  {
   "cell_type": "code",
   "execution_count": 3,
   "metadata": {},
   "outputs": [
    {
     "data": {
      "text/html": [
       "GIS @ <a href=\"https://martinez10.esri.com/arcgis/home/\">https://martinez10.esri.com/arcgis/home/</a>"
      ],
      "text/plain": [
       "GIS @ https://martinez10.esri.com/arcgis/home/ version:5.3"
      ]
     },
     "execution_count": 3,
     "metadata": {},
     "output_type": "execute_result"
    }
   ],
   "source": [
    "gis"
   ]
  },
  {
   "cell_type": "markdown",
   "metadata": {},
   "source": [
    "### Querying for users"
   ]
  },
  {
   "cell_type": "markdown",
   "metadata": {},
   "source": [
    "Let's run a full query for listed users:"
   ]
  },
  {
   "cell_type": "code",
   "execution_count": 4,
   "metadata": {},
   "outputs": [
    {
     "data": {
      "text/plain": [
       "[<User username:dmart>,\n",
       " <User username:esri_boundaries>,\n",
       " <User username:esri_demographics>,\n",
       " <User username:esri_livingatlas>,\n",
       " <User username:esri_nav>]"
      ]
     },
     "execution_count": 4,
     "metadata": {},
     "output_type": "execute_result"
    }
   ],
   "source": [
    "gis.users.search()"
   ]
  },
  {
   "cell_type": "code",
   "execution_count": 5,
   "metadata": {},
   "outputs": [
    {
     "data": {
      "text/html": [
       "<div class=\"9item_container\" style=\"height: auto; overflow: hidden; border: 1px solid #cfcfcf; border-radius: 2px; background: #f6fafa; line-height: 1.21429em; padding: 10px;\">\n",
       "                    <div class=\"item_left\" style=\"width: 210px; float: left;\">\n",
       "                       <a href='https://martinez10.esri.com/arcgis/home//home/user.html?user=dmart' target='_blank'>\n",
       "                        <img src='data:image/png;base64,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' width='200' height='133' class=\"itemThumbnail\">\n",
       "                       </a>\n",
       "                    </div>\n",
       "\n",
       "                    <div class=\"item_right\" style=\"float: none; width: auto; overflow: hidden;\">\n",
       "                        <a href='https://martinez10.esri.com/arcgis/home//home/user.html?user=dmart' target='_blank'><b>David Martinez</b>\n",
       "                        </a>\n",
       "                        <br/><br/><b>Bio</b>: \n",
       "                        <br/><b>First Name</b>: David\n",
       "                        <br/><b>Last Name</b>: Martinez\n",
       "                        <br/><b>Username</b>: dmart\n",
       "                        <br/><b>Joined</b>: March 02, 2018\n",
       "\n",
       "                    </div>\n",
       "                </div>\n",
       "                "
      ],
      "text/plain": [
       "<User username:dmart>"
      ]
     },
     "execution_count": 5,
     "metadata": {},
     "output_type": "execute_result"
    }
   ],
   "source": [
    "gis.users.me"
   ]
  },
  {
   "cell_type": "markdown",
   "metadata": {},
   "source": [
    "Filter your user search..."
   ]
  },
  {
   "cell_type": "code",
   "execution_count": 6,
   "metadata": {},
   "outputs": [
    {
     "data": {
      "text/plain": [
       "[<User username:dmart>]"
      ]
     },
     "execution_count": 6,
     "metadata": {},
     "output_type": "execute_result"
    }
   ],
   "source": [
    "gis.users.search(\"martinez\")"
   ]
  },
  {
   "cell_type": "markdown",
   "metadata": {},
   "source": [
    "Let's search for my colleague, Matt"
   ]
  },
  {
   "cell_type": "code",
   "execution_count": 7,
   "metadata": {},
   "outputs": [
    {
     "data": {
      "text/plain": [
       "[]"
      ]
     },
     "execution_count": 7,
     "metadata": {},
     "output_type": "execute_result"
    }
   ],
   "source": [
    "gis.users.search(\"Matt\")"
   ]
  },
  {
   "cell_type": "markdown",
   "metadata": {},
   "source": [
    "### Create a new user"
   ]
  },
  {
   "cell_type": "markdown",
   "metadata": {},
   "source": [
    "Users can be created through the API"
   ]
  },
  {
   "cell_type": "code",
   "execution_count": 8,
   "metadata": {},
   "outputs": [],
   "source": [
    "gis.users.create?"
   ]
  },
  {
   "cell_type": "code",
   "execution_count": 9,
   "metadata": {},
   "outputs": [
    {
     "data": {
      "text/html": [
       "<div class=\"9item_container\" style=\"height: auto; overflow: hidden; border: 1px solid #cfcfcf; border-radius: 2px; background: #f6fafa; line-height: 1.21429em; padding: 10px;\">\n",
       "                    <div class=\"item_left\" style=\"width: 210px; float: left;\">\n",
       "                       <a href='https://martinez10.esri.com/arcgis/home//home/user.html?user=kal-el' target='_blank'>\n",
       "                        <img src='https://martinez10.esri.com/arcgis/home//home/js/arcgisonline/css/images/no-user-thumb.jpg' class=\"itemThumbnail\">\n",
       "                       </a>\n",
       "                    </div>\n",
       "\n",
       "                    <div class=\"item_right\" style=\"float: none; width: auto; overflow: hidden;\">\n",
       "                        <a href='https://martinez10.esri.com/arcgis/home//home/user.html?user=kal-el' target='_blank'><b>clark kent</b>\n",
       "                        </a>\n",
       "                        <br/><br/><b>Bio</b>: None\n",
       "                        <br/><b>First Name</b>: clark\n",
       "                        <br/><b>Last Name</b>: kent\n",
       "                        <br/><b>Username</b>: kal-el\n",
       "                        <br/><b>Joined</b>: February 07, 2019\n",
       "\n",
       "                    </div>\n",
       "                </div>\n",
       "                "
      ],
      "text/plain": [
       "<User username:kal-el>"
      ]
     },
     "execution_count": 9,
     "metadata": {},
     "output_type": "execute_result"
    }
   ],
   "source": [
    "clark = gis.users.create(username = \"kal-el\", \n",
    "                           password=\"test106xyz3\", \n",
    "                          firstname=\"clark\", \n",
    "                          lastname=\"kent\", \n",
    "                          email=\"tester@esri.com\",  \n",
    "                          role='org_user')\n",
    "clark"
   ]
  },
  {
   "cell_type": "markdown",
   "metadata": {},
   "source": [
    "This variable is now a \"user\" object"
   ]
  },
  {
   "cell_type": "code",
   "execution_count": 11,
   "metadata": {},
   "outputs": [
    {
     "data": {
      "text/plain": [
       "arcgis.gis.User"
      ]
     },
     "execution_count": 11,
     "metadata": {},
     "output_type": "execute_result"
    }
   ],
   "source": [
    "type(clark)"
   ]
  },
  {
   "cell_type": "markdown",
   "metadata": {},
   "source": [
    "Use intellisense to see all the options you have available with user objects."
   ]
  },
  {
   "cell_type": "code",
   "execution_count": 12,
   "metadata": {},
   "outputs": [
    {
     "data": {
      "text/plain": [
       "'None'"
      ]
     },
     "execution_count": 12,
     "metadata": {},
     "output_type": "execute_result"
    }
   ],
   "source": [
    "clark.description"
   ]
  },
  {
   "cell_type": "code",
   "execution_count": 13,
   "metadata": {},
   "outputs": [
    {
     "data": {
      "text/plain": [
       "'tester@esri.com'"
      ]
     },
     "execution_count": 13,
     "metadata": {},
     "output_type": "execute_result"
    }
   ],
   "source": [
    "clark.email"
   ]
  },
  {
   "cell_type": "code",
   "execution_count": 14,
   "metadata": {
    "scrolled": true
   },
   "outputs": [
    {
     "data": {
      "text/plain": [
       "True"
      ]
     },
     "execution_count": 14,
     "metadata": {},
     "output_type": "execute_result"
    }
   ],
   "source": [
    "clark.delete()"
   ]
  },
  {
   "cell_type": "markdown",
   "metadata": {},
   "source": [
    "### Querying for groups"
   ]
  },
  {
   "cell_type": "code",
   "execution_count": 15,
   "metadata": {},
   "outputs": [
    {
     "data": {
      "text/plain": [
       "[<Group title:\"Esri Boundary Layers\" owner:esri_boundaries>,\n",
       " <Group title:\"Esri Demographic Layers\" owner:esri_demographics>,\n",
       " <Group title:\"Living Atlas\" owner:esri_livingatlas>,\n",
       " <Group title:\"Living Atlas Analysis Layers\" owner:esri_livingatlas>,\n",
       " <Group title:\"Navigator Maps\" owner:esri_nav>]"
      ]
     },
     "execution_count": 15,
     "metadata": {},
     "output_type": "execute_result"
    }
   ],
   "source": [
    "gis.groups.search()"
   ]
  },
  {
   "cell_type": "markdown",
   "metadata": {},
   "source": [
    "Let's create the group"
   ]
  },
  {
   "cell_type": "code",
   "execution_count": 16,
   "metadata": {
    "scrolled": true
   },
   "outputs": [],
   "source": [
    "# create groups\n",
    "demo_group = gis.groups.create(\"DC2019\", \"Demo; DC\")"
   ]
  },
  {
   "cell_type": "markdown",
   "metadata": {},
   "source": [
    "This is a \"group\" object"
   ]
  },
  {
   "cell_type": "code",
   "execution_count": 17,
   "metadata": {},
   "outputs": [],
   "source": [
    "demo_group?"
   ]
  },
  {
   "cell_type": "code",
   "execution_count": 18,
   "metadata": {
    "scrolled": true
   },
   "outputs": [
    {
     "data": {
      "text/html": [
       "<div class=\"9item_container\" style=\"height: auto; overflow: hidden; border: 1px solid #cfcfcf; border-radius: 2px; background: #f6fafa; line-height: 1.21429em; padding: 10px;\">\n",
       "                    <div class=\"item_left\" style=\"width: 210px; float: left;\">\n",
       "                       <a href='https://martinez10.esri.com/arcgis/home//home/group.html?id=2742e6e87ef24101845534f62dbe4c04' target='_blank'>\n",
       "                        <img src='https://martinez10.esri.com/arcgis/home//home/images/group-no-image.png' class=\"itemThumbnail\">\n",
       "                       </a>\n",
       "                    </div>\n",
       "\n",
       "                    <div class=\"item_right\" style=\"float: none; width: auto; overflow: hidden;\">\n",
       "                        <a href='https://martinez10.esri.com/arcgis/home//home/group.html?id=2742e6e87ef24101845534f62dbe4c04' target='_blank'><b>DC2019</b>\n",
       "                        </a>\n",
       "                        <br/>\n",
       "                        <br/><b>Summary</b>: None\n",
       "                        <br/><b>Description</b>: None\n",
       "                        <br/><b>Owner</b>: dmart\n",
       "                        <br/><b>Created</b>: February 07, 2019\n",
       "\n",
       "                    </div>\n",
       "                </div>\n",
       "                "
      ],
      "text/plain": [
       "<Group title:\"DC2019\" owner:dmart>"
      ]
     },
     "execution_count": 18,
     "metadata": {},
     "output_type": "execute_result"
    }
   ],
   "source": [
    "demo_group"
   ]
  },
  {
   "cell_type": "code",
   "execution_count": 19,
   "metadata": {},
   "outputs": [
    {
     "data": {
      "text/plain": [
       "arcgis.gis.Group"
      ]
     },
     "execution_count": 19,
     "metadata": {},
     "output_type": "execute_result"
    }
   ],
   "source": [
    "type(demo_group)"
   ]
  },
  {
   "cell_type": "markdown",
   "metadata": {},
   "source": [
    "Like the user object, it has methods we can call on it"
   ]
  },
  {
   "cell_type": "code",
   "execution_count": 20,
   "metadata": {},
   "outputs": [
    {
     "data": {
      "text/plain": [
       "'public'"
      ]
     },
     "execution_count": 20,
     "metadata": {},
     "output_type": "execute_result"
    }
   ],
   "source": [
    "demo_group.access"
   ]
  },
  {
   "cell_type": "markdown",
   "metadata": {},
   "source": [
    "# Let's say your boss suddenly gets an idea!\n",
    "\n",
    "<img src=\"images/idea.jpg\" height=\"600\" width=\"600\">\n",
    "\n",
    "## Boss:\n",
    "## \"I want you to create a new portal, with new users from our regional teams and mulitple groups and make every member is part of their groups. \n",
    "## \"And I need this before you go home.\""
   ]
  },
  {
   "cell_type": "markdown",
   "metadata": {},
   "source": [
    "<img src=\"images/worriedsmile.png\" height=\"400\" width=\"400\"></img>"
   ]
  },
  {
   "cell_type": "markdown",
   "metadata": {},
   "source": [
    "## Have no fear! The ArcGIS API for Python is here to help."
   ]
  },
  {
   "cell_type": "markdown",
   "metadata": {},
   "source": [
    "We're going to import some libraries to help us"
   ]
  },
  {
   "cell_type": "code",
   "execution_count": 21,
   "metadata": {},
   "outputs": [],
   "source": [
    "import csv \n",
    "import json"
   ]
  },
  {
   "cell_type": "markdown",
   "metadata": {},
   "source": [
    "# Create Groups"
   ]
  },
  {
   "cell_type": "code",
   "execution_count": 22,
   "metadata": {},
   "outputs": [],
   "source": [
    "def create_groups():\n",
    "    print(\"CREATING GROUPS\")\n",
    "\n",
    "    with open(\"groups.csv\", 'r') as groups_csv:\n",
    "        groups = csv.DictReader(groups_csv)\n",
    "        for group in groups:\n",
    "            try:\n",
    "                print(\" Creating group: \", group['title'], end=\"  ##  \")\n",
    "                result = gis.groups.create_from_dict(group)\n",
    "                if result:\n",
    "                    print(\"success\")\n",
    "            except Exception as create_ex:\n",
    "                print(\"Error... \", str(create_ex))"
   ]
  },
  {
   "cell_type": "markdown",
   "metadata": {},
   "source": [
    "# Add Users"
   ]
  },
  {
   "cell_type": "code",
   "execution_count": 23,
   "metadata": {},
   "outputs": [],
   "source": [
    "def create_users():\n",
    "    # loop through and create users\n",
    "    with open(\"users.csv\", 'r') as users_csv:\n",
    "        users = csv.DictReader(users_csv)\n",
    "        for user in users:\n",
    "            try:\n",
    "                print(\"Creating user: \", user['username'], end=\" ## \")\n",
    "                result = gis.users.create(username=user['username'],\n",
    "                                          password=user['password'],\n",
    "                                          firstname=user['Firstname'],\n",
    "                                          lastname=user['Lastname'],\n",
    "                                          email=user['email'],\n",
    "                                          role =user['role'])\n",
    "                if result:\n",
    "                    print(\"success  ##\")\n",
    "\n",
    "                    print(\"\\t Adding to groups: \", end=\" # \")\n",
    "                    groups = user['groups']\n",
    "                    group_list = groups.split(\",\")\n",
    "\n",
    "                    # Search for the group\n",
    "                    for g in group_list:\n",
    "                        group_search = gis.groups.search(g)\n",
    "                        if len(group_search) > 0:\n",
    "                            try:\n",
    "                                group = group_search[0]\n",
    "                                groups_result = group.add_users([user['username']])\n",
    "                                if len(groups_result['notAdded']) == 0:\n",
    "                                    print(g, end =\" # \")\n",
    "\n",
    "                            except Exception as groups_ex:\n",
    "                                print(\"\\n \\t Cannot add user to group \", g, str(groups_ex))\n",
    "                    print(\"\\n\")\n",
    "\n",
    "            except Exception as add_ex:\n",
    "                print(\"Cannot create user: \" + user['username'])\n",
    "                print(str(add_ex))"
   ]
  },
  {
   "cell_type": "markdown",
   "metadata": {},
   "source": [
    "# Publish Content"
   ]
  },
  {
   "cell_type": "code",
   "execution_count": 24,
   "metadata": {},
   "outputs": [],
   "source": [
    "def publish_content():\n",
    "    # Read the csv containing user accounts and their territory info\n",
    "    csv_path = \"users.csv\"\n",
    "\n",
    "    # Read template web map\n",
    "    template_webmap_dict = dict()\n",
    "    with open('.\\\\user_content\\\\web_map.json', 'r') as webmap_file:\n",
    "                template_webmap_dict = json.load(webmap_file)\n",
    "\n",
    "    # Loop through each user and publish the content\n",
    "    with open(csv_path, 'r') as csv_handle:\n",
    "        reader = csv.DictReader(csv_handle)\n",
    "        for row in reader:\n",
    "            try:\n",
    "                data_to_publish = '.\\\\user_content\\\\' + row['assigned_state'] + \".csv\"\n",
    "\n",
    "                print(\"Publishing \", data_to_publish, end = \" # \")\n",
    "                added_item = gis.content.add({}, data = data_to_publish)\n",
    "                published_layer = added_item.publish()\n",
    "\n",
    "                if published_layer is not None:\n",
    "                    # publish web map\n",
    "                    print('webmaps', end= \" ## \")\n",
    "                    user_webmap_dict = template_webmap_dict\n",
    "                    user_webmap_dict['operationalLayers'][0].update({'itemId': published_layer.itemid,\n",
    "                                                                     'layerType': \"ArcGISFeatureLayer\",\n",
    "                                                                     'title': published_layer.title,\n",
    "                                                                     'url': published_layer.url + r\"/0\"})\n",
    "\n",
    "                    web_map_properties = {'title': '{0} {1} response locations'.format(row['Firstname'], row['Lastname']),\n",
    "                                          'type': 'Web Map',\n",
    "                                          'snippet': 'Areas affected by Hurricane Matthew under the supervision of' +\\\n",
    "                                                     '{0} {1}'.format(row['Firstname'], row['Lastname']),\n",
    "                                          'tags': 'ArcGIS Python API',\n",
    "                                          'typeKeywords' : \"Collector, Explorer Web Map, Web Map, Map, Online Map\",\n",
    "                                          'text': json.dumps(user_webmap_dict)}\n",
    "\n",
    "                    web_map_item = gis.content.add(web_map_properties)\n",
    "\n",
    "                    print(\"success. Assigning to: \", end=\"  #  \")\n",
    "                    result1 = published_layer.reassign_to(row['username'])\n",
    "                    result2 = web_map_item.reassign_to(row['username'])\n",
    "                    if (result1 and result2) is not None:\n",
    "                        print(row['username'])\n",
    "                    else:\n",
    "                        print(\"error\")\n",
    "                else:\n",
    "                    print(\" error publishing csv\")\n",
    "\n",
    "            except Exception as pub_ex:\n",
    "                print(\"Error : \", str(pub_ex))"
   ]
  },
  {
   "cell_type": "markdown",
   "metadata": {},
   "source": [
    "# Customize the UX"
   ]
  },
  {
   "cell_type": "code",
   "execution_count": 25,
   "metadata": {},
   "outputs": [],
   "source": [
    "def set_theme():\n",
    "    \n",
    "    folder = r'helper_files'\n",
    "    gis.admin.ux.set_logo(folder + r'\\logo\\dc_logo.png')\n",
    "    gis.admin.ux.set_background(is_built_in=False)\n",
    "    gis.admin.ux.set_banner(folder + r'\\baked_banner\\washingtondc_banner.png')\n",
    "    gis.admin.ux.name = \"Washington DC\"\n",
    "    gis.admin.ux.description = \"Washington DC\""
   ]
  },
  {
   "cell_type": "code",
   "execution_count": null,
   "metadata": {},
   "outputs": [],
   "source": [
    "set_theme()\n",
    "create_groups()\n",
    "create_users()\n",
    "publish_content()"
   ]
  },
  {
   "cell_type": "markdown",
   "metadata": {},
   "source": [
    "## \"We just found out that we have to remove every user from our Portal as we have to use it for another urgent project.\n"
   ]
  },
  {
   "cell_type": "markdown",
   "metadata": {},
   "source": [
    "## Good thing we have the ArcGIS API for Python to help."
   ]
  },
  {
   "cell_type": "markdown",
   "metadata": {},
   "source": [
    "We're going to run a clean up script(clean.py) in my local IDE(PyCharm) removing everything except the admin account and some groups. \n",
    "\n"
   ]
  },
  {
   "cell_type": "code",
   "execution_count": null,
   "metadata": {},
   "outputs": [],
   "source": []
  }
 ],
 "metadata": {
  "kernelspec": {
   "display_name": "Python 3",
   "language": "python",
   "name": "python3"
  },
  "language_info": {
   "codemirror_mode": {
    "name": "ipython",
    "version": 3
   },
   "file_extension": ".py",
   "mimetype": "text/x-python",
   "name": "python",
   "nbconvert_exporter": "python",
   "pygments_lexer": "ipython3",
   "version": "3.6.5"
  }
 },
 "nbformat": 4,
 "nbformat_minor": 2
}
