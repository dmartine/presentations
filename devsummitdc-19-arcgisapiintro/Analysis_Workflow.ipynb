{
 "cells": [
  {
   "cell_type": "markdown",
   "metadata": {},
   "source": [
    "<center><img src=\"./images/analysis.png\" height=\"600\" width=\"600\"/></center><br>"
   ]
  },
  {
   "cell_type": "markdown",
   "metadata": {},
   "source": [
    "## Find hospitals closest to an incident"
   ]
  },
  {
   "cell_type": "markdown",
   "metadata": {},
   "source": [
    "The `network` module of the ArcGIS API for Python can be used to solve different types of network analysis operations."
   ]
  },
  {
   "cell_type": "markdown",
   "metadata": {},
   "source": [
    "## Closest facility"
   ]
  },
  {
   "cell_type": "markdown",
   "metadata": {},
   "source": [
    "The closest facility solver provides functionality for finding out the closest locations to a particular input point. This solver would be useful in cases when you have an incident and need to find the closest facility or need to get information on the travel time and the distance to each of the facilities from an incident point for reporting purposes.\n",
    "\n",
    "![](http://desktop.arcgis.com/en/arcmap/latest/extensions/network-analyst/GUID-96C273DB-6A24-4D42-AADA-975A33B44F3D-web.png)\n",
    "\n",
    "When finding closest facilities, you can specify how many to find and whether the direction of travel is toward or away from them. The closest facility solver displays the best routes between incidents and facilities, reports their travel costs, and returns driving directions."
   ]
  },
  {
   "cell_type": "markdown",
   "metadata": {},
   "source": [
    "### Connect to your GIS"
   ]
  },
  {
   "cell_type": "code",
   "execution_count": 1,
   "metadata": {},
   "outputs": [],
   "source": [
    "from IPython.display import HTML\n",
    "import pandas as pd\n",
    "from arcgis.gis import GIS\n",
    "from getpass import getpass"
   ]
  },
  {
   "cell_type": "code",
   "execution_count": 3,
   "metadata": {},
   "outputs": [
    {
     "name": "stdout",
     "output_type": "stream",
     "text": [
      "········\n"
     ]
    }
   ],
   "source": [
    "password = getpass()\n",
    "url = 'https://www.arcgis.com/'\n",
    "username = ''\n",
    "my_gis = GIS(url, username, password)"
   ]
  },
  {
   "cell_type": "markdown",
   "metadata": {},
   "source": [
    "### Create a Network Layer\n",
    "To perform any network analysis (such as finding the closest facility, the best route between multiple stops, or service area around a facility), you would need to create a `NetworkLayer` object. We need to create a `ClosestFacilityLayer` which is a type of `NetworkLayer`.\n",
    "\n",
    "To create any `NetworkLayer` object, you would need to provide the URL to the appropriate network analysis service. We provide a `ClosestFacility` URL to create a `ClosestFacilityLayer` object. "
   ]
  },
  {
   "cell_type": "code",
   "execution_count": 4,
   "metadata": {},
   "outputs": [],
   "source": [
    "import arcgis.network as network"
   ]
  },
  {
   "cell_type": "code",
   "execution_count": 5,
   "metadata": {},
   "outputs": [
    {
     "data": {
      "text/plain": [
       "'https://route.arcgis.com/arcgis/rest/services/World/ClosestFacility/NAServer/ClosestFacility_World'"
      ]
     },
     "execution_count": 5,
     "metadata": {},
     "output_type": "execute_result"
    }
   ],
   "source": [
    "analysis_url = my_gis.properties.helperServices.closestFacility.url\n",
    "analysis_url"
   ]
  },
  {
   "cell_type": "markdown",
   "metadata": {},
   "source": [
    "Create a `ClosestFacilityLayer` object using this URL"
   ]
  },
  {
   "cell_type": "code",
   "execution_count": 6,
   "metadata": {},
   "outputs": [],
   "source": [
    "cf_layer = network.ClosestFacilityLayer(analysis_url, gis=my_gis)"
   ]
  },
  {
   "cell_type": "markdown",
   "metadata": {},
   "source": [
    "### Create hospitals layer\n",
    "Next, we will be looking for the closest hospital (facility) to an incident location. Even though we are interested in finding out the closest one, it would still be helpful to get the information on the distance and travel time to all of them for reference purposes.\n",
    "\n",
    "We need to geocode the hospitals' addresses as well as do the reverse geocode for the incident location which has been supplied in the latitude/longitude format.\n",
    "\n",
    "To perform the geocode operations, we import the `geocoding` module of the ArcGIS API."
   ]
  },
  {
   "cell_type": "code",
   "execution_count": 7,
   "metadata": {},
   "outputs": [],
   "source": [
    "from arcgis import geocoding"
   ]
  },
  {
   "cell_type": "markdown",
   "metadata": {},
   "source": [
    "Let's geocode addresses of hospitals to create the facility layer. "
   ]
  },
  {
   "cell_type": "code",
   "execution_count": 8,
   "metadata": {},
   "outputs": [],
   "source": [
    "hospitals_addresses = ['Estrada Adhemar Bebiano, 339 Del Castilho, Rio de Janeiro RJ, 21051-370, Brazil',\n",
    "                       'R. José dos Reis Engenho de Dentro, Rio de Janeiro RJ, 20750-000, Brazil',\n",
    "                       'R. Dezessete, s/n Maré, Rio de Janeiro RJ, 21042-010, Brazil',\n",
    "                       'Rua Dr. Miguel Vieira Ferreira, 266 Ramos, Rio de Janeiro RJ, Brazil']"
   ]
  },
  {
   "cell_type": "markdown",
   "metadata": {},
   "source": [
    "Loop through each address and geocode it. The geocode operation returns a list of matches for each address. We pick the first result and extract the coordinates from it and construct a `Feature` object out of it. Then we combine all the `Feature`s representing the hospitals into a `FeatureSet` object."
   ]
  },
  {
   "cell_type": "code",
   "execution_count": 9,
   "metadata": {},
   "outputs": [],
   "source": [
    "from arcgis.features import Feature, FeatureSet"
   ]
  },
  {
   "cell_type": "code",
   "execution_count": 10,
   "metadata": {},
   "outputs": [],
   "source": [
    "hosp_feat_list = []\n",
    "\n",
    "for address in hospitals_addresses:\n",
    "    hit = geocoding.geocode(address)[0]\n",
    "    hosp_feat = Feature(geometry=hit['location'], attributes=hit['attributes'])\n",
    "\n",
    "    hosp_feat_list.append(hosp_feat)"
   ]
  },
  {
   "cell_type": "markdown",
   "metadata": {},
   "source": [
    "Construct a `FeatureSet` using each hospital `Feature`."
   ]
  },
  {
   "cell_type": "code",
   "execution_count": 11,
   "metadata": {},
   "outputs": [],
   "source": [
    "hospitals_fset = FeatureSet(features=hosp_feat_list, \n",
    "                            geometry_type='esriGeometryPoint', \n",
    "                            spatial_reference={'latestWkid': 4326})"
   ]
  },
  {
   "cell_type": "code",
   "execution_count": 12,
   "metadata": {},
   "outputs": [
    {
     "data": {
      "application/vnd.jupyter.widget-view+json": {
       "model_id": "dcece3d92c1f4138ba0909a5408b129e",
       "version_major": 2,
       "version_minor": 0
      },
      "text/plain": [
       "MapView(layout=Layout(height='400px', width='100%'))"
      ]
     },
     "metadata": {},
     "output_type": "display_data"
    }
   ],
   "source": [
    "map1 = my_gis.map('Rio de Janeiro, Brazil')\n",
    "map1"
   ]
  },
  {
   "cell_type": "code",
   "execution_count": 13,
   "metadata": {},
   "outputs": [],
   "source": [
    "map1.draw(hospitals_fset, symbol={\"type\": \"esriSMS\",\"style\": \"esriSMSSquare\",\n",
    "                                  \"color\": [76,115,0,255],\"size\": 8,})"
   ]
  },
  {
   "cell_type": "markdown",
   "metadata": {},
   "source": [
    "### Create incidents layer"
   ]
  },
  {
   "cell_type": "code",
   "execution_count": 14,
   "metadata": {},
   "outputs": [],
   "source": [
    "incident_coords = '-43.281206,-22.865676'\n",
    "reverse_geocode = geocoding.reverse_geocode({\"x\": incident_coords.split(',')[0], \n",
    "                                              \"y\": incident_coords.split(',')[1]})\n",
    "\n",
    "incident_feature = Feature(geometry=reverse_geocode['location'], \n",
    "                           attributes=reverse_geocode['address'])"
   ]
  },
  {
   "cell_type": "code",
   "execution_count": 15,
   "metadata": {},
   "outputs": [],
   "source": [
    "incident_fset = FeatureSet([incident_feature], geometry_type='esriGeometryPoint',\n",
    "                          spatial_reference={'latestWkid': 4326})"
   ]
  },
  {
   "cell_type": "code",
   "execution_count": 16,
   "metadata": {},
   "outputs": [],
   "source": [
    "map1.draw(incident_fset, symbol={\"type\": \"esriSMS\",\"style\": \"esriSMSCircle\",\"size\": 8})"
   ]
  },
  {
   "cell_type": "markdown",
   "metadata": {},
   "source": [
    "## Solve for closest hospital\n",
    "By default the closest facility service would return only the closest location, so we need to specify explicitly the `default_target_facility_count` parameter as well as `return_facilities`.\n"
   ]
  },
  {
   "cell_type": "code",
   "execution_count": 17,
   "metadata": {},
   "outputs": [],
   "source": [
    "result = cf_layer.solve_closest_facility(incidents=incident_fset,\n",
    "                                        facilities=hospitals_fset,\n",
    "                                        default_target_facility_count=4,\n",
    "                                        return_facilities=True,\n",
    "                                        impedance_attribute_name='TravelTime',\n",
    "                                        accumulate_attribute_names=['Kilometers','TravelTime'])"
   ]
  },
  {
   "cell_type": "code",
   "execution_count": 18,
   "metadata": {},
   "outputs": [
    {
     "data": {
      "text/plain": [
       "dict_keys(['messages', 'routes', 'facilities'])"
      ]
     },
     "execution_count": 18,
     "metadata": {},
     "output_type": "execute_result"
    }
   ],
   "source": [
    "result.keys()"
   ]
  },
  {
   "cell_type": "markdown",
   "metadata": {},
   "source": [
    "Let us use the `routes` dictionary to construct line features out of the routes to display on the map"
   ]
  },
  {
   "cell_type": "code",
   "execution_count": 19,
   "metadata": {},
   "outputs": [
    {
     "data": {
      "text/plain": [
       "dict_keys(['fieldAliases', 'geometryType', 'spatialReference', 'features'])"
      ]
     },
     "execution_count": 19,
     "metadata": {},
     "output_type": "execute_result"
    }
   ],
   "source": [
    "result['routes'].keys()"
   ]
  },
  {
   "cell_type": "code",
   "execution_count": 20,
   "metadata": {},
   "outputs": [
    {
     "data": {
      "text/plain": [
       "dict_keys(['attributes', 'geometry'])"
      ]
     },
     "execution_count": 20,
     "metadata": {},
     "output_type": "execute_result"
    }
   ],
   "source": [
    "result['routes']['features'][0].keys()"
   ]
  },
  {
   "cell_type": "markdown",
   "metadata": {},
   "source": [
    "Construct line features out of the routes that are returned."
   ]
  },
  {
   "cell_type": "code",
   "execution_count": 21,
   "metadata": {},
   "outputs": [],
   "source": [
    "line_feat_list = []\n",
    "for line_dict in result['routes']['features']:\n",
    "    f1 = Feature(line_dict['geometry'], line_dict['attributes'])\n",
    "    line_feat_list.append(f1)"
   ]
  },
  {
   "cell_type": "code",
   "execution_count": 22,
   "metadata": {},
   "outputs": [],
   "source": [
    "routes_fset = FeatureSet(line_feat_list, \n",
    "                         geometry_type=result['routes']['geometryType'],\n",
    "                         spatial_reference= result['routes']['spatialReference'])"
   ]
  },
  {
   "cell_type": "code",
   "execution_count": 23,
   "metadata": {},
   "outputs": [],
   "source": [
    "map1.draw(routes_fset)"
   ]
  },
  {
   "cell_type": "markdown",
   "metadata": {},
   "source": [
    "Since we parsed the routes as a `FeatureSet`, we can display the attributes easily as a `pandas` `DataFrame`."
   ]
  },
  {
   "cell_type": "code",
   "execution_count": 24,
   "metadata": {},
   "outputs": [
    {
     "data": {
      "text/html": [
       "<div>\n",
       "<style scoped>\n",
       "    .dataframe tbody tr th:only-of-type {\n",
       "        vertical-align: middle;\n",
       "    }\n",
       "\n",
       "    .dataframe tbody tr th {\n",
       "        vertical-align: top;\n",
       "    }\n",
       "\n",
       "    .dataframe thead th {\n",
       "        text-align: right;\n",
       "    }\n",
       "</style>\n",
       "<table border=\"1\" class=\"dataframe\">\n",
       "  <thead>\n",
       "    <tr style=\"text-align: right;\">\n",
       "      <th></th>\n",
       "      <th>FacilityCurbApproach</th>\n",
       "      <th>FacilityID</th>\n",
       "      <th>FacilityRank</th>\n",
       "      <th>IncidentCurbApproach</th>\n",
       "      <th>IncidentID</th>\n",
       "      <th>Name</th>\n",
       "      <th>ObjectID</th>\n",
       "      <th>SHAPE</th>\n",
       "      <th>Shape_Length</th>\n",
       "      <th>Total_Kilometers</th>\n",
       "      <th>Total_Miles</th>\n",
       "      <th>Total_TravelTime</th>\n",
       "    </tr>\n",
       "  </thead>\n",
       "  <tbody>\n",
       "    <tr>\n",
       "      <th>0</th>\n",
       "      <td>1</td>\n",
       "      <td>1</td>\n",
       "      <td>1</td>\n",
       "      <td>2</td>\n",
       "      <td>1</td>\n",
       "      <td>Rua Tangapeme 36 - Location 1</td>\n",
       "      <td>1</td>\n",
       "      <td>{\"paths\": [[[-43.28124189499994, -22.865707432...</td>\n",
       "      <td>0.028461</td>\n",
       "      <td>3.016318</td>\n",
       "      <td>1.874253</td>\n",
       "      <td>7.554929</td>\n",
       "    </tr>\n",
       "    <tr>\n",
       "      <th>1</th>\n",
       "      <td>2</td>\n",
       "      <td>4</td>\n",
       "      <td>2</td>\n",
       "      <td>2</td>\n",
       "      <td>1</td>\n",
       "      <td>Rua Tangapeme 36 - Location 4</td>\n",
       "      <td>2</td>\n",
       "      <td>{\"paths\": [[[-43.28124189499994, -22.865707432...</td>\n",
       "      <td>0.048805</td>\n",
       "      <td>5.222468</td>\n",
       "      <td>3.245091</td>\n",
       "      <td>12.202391</td>\n",
       "    </tr>\n",
       "    <tr>\n",
       "      <th>2</th>\n",
       "      <td>2</td>\n",
       "      <td>3</td>\n",
       "      <td>3</td>\n",
       "      <td>2</td>\n",
       "      <td>1</td>\n",
       "      <td>Rua Tangapeme 36 - Location 3</td>\n",
       "      <td>3</td>\n",
       "      <td>{\"paths\": [[[-43.28124189499994, -22.865707432...</td>\n",
       "      <td>0.061555</td>\n",
       "      <td>6.464249</td>\n",
       "      <td>4.016698</td>\n",
       "      <td>14.337250</td>\n",
       "    </tr>\n",
       "    <tr>\n",
       "      <th>3</th>\n",
       "      <td>2</td>\n",
       "      <td>2</td>\n",
       "      <td>4</td>\n",
       "      <td>2</td>\n",
       "      <td>1</td>\n",
       "      <td>Rua Tangapeme 36 - Location 2</td>\n",
       "      <td>4</td>\n",
       "      <td>{\"paths\": [[[-43.28124189499994, -22.865707432...</td>\n",
       "      <td>0.086735</td>\n",
       "      <td>9.143542</td>\n",
       "      <td>5.681533</td>\n",
       "      <td>18.793156</td>\n",
       "    </tr>\n",
       "  </tbody>\n",
       "</table>\n",
       "</div>"
      ],
      "text/plain": [
       "   FacilityCurbApproach  FacilityID  FacilityRank  IncidentCurbApproach  \\\n",
       "0                     1           1             1                     2   \n",
       "1                     2           4             2                     2   \n",
       "2                     2           3             3                     2   \n",
       "3                     2           2             4                     2   \n",
       "\n",
       "   IncidentID                           Name  ObjectID  \\\n",
       "0           1  Rua Tangapeme 36 - Location 1         1   \n",
       "1           1  Rua Tangapeme 36 - Location 4         2   \n",
       "2           1  Rua Tangapeme 36 - Location 3         3   \n",
       "3           1  Rua Tangapeme 36 - Location 2         4   \n",
       "\n",
       "                                               SHAPE  Shape_Length  \\\n",
       "0  {\"paths\": [[[-43.28124189499994, -22.865707432...      0.028461   \n",
       "1  {\"paths\": [[[-43.28124189499994, -22.865707432...      0.048805   \n",
       "2  {\"paths\": [[[-43.28124189499994, -22.865707432...      0.061555   \n",
       "3  {\"paths\": [[[-43.28124189499994, -22.865707432...      0.086735   \n",
       "\n",
       "   Total_Kilometers  Total_Miles  Total_TravelTime  \n",
       "0          3.016318     1.874253          7.554929  \n",
       "1          5.222468     3.245091         12.202391  \n",
       "2          6.464249     4.016698         14.337250  \n",
       "3          9.143542     5.681533         18.793156  "
      ]
     },
     "execution_count": 24,
     "metadata": {},
     "output_type": "execute_result"
    }
   ],
   "source": [
    "df1 = routes_fset.sdf\n",
    "df1"
   ]
  },
  {
   "cell_type": "code",
   "execution_count": 25,
   "metadata": {},
   "outputs": [],
   "source": [
    "df1['facility_address'] = hospitals_addresses\n",
    "df1['incident_address'] = [incident_feature.attributes['Match_addr'] for i in range(len(hospitals_addresses))]"
   ]
  },
  {
   "cell_type": "code",
   "execution_count": 26,
   "metadata": {},
   "outputs": [
    {
     "data": {
      "text/html": [
       "<div>\n",
       "<style scoped>\n",
       "    .dataframe tbody tr th:only-of-type {\n",
       "        vertical-align: middle;\n",
       "    }\n",
       "\n",
       "    .dataframe tbody tr th {\n",
       "        vertical-align: top;\n",
       "    }\n",
       "\n",
       "    .dataframe thead th {\n",
       "        text-align: right;\n",
       "    }\n",
       "</style>\n",
       "<table border=\"1\" class=\"dataframe\">\n",
       "  <thead>\n",
       "    <tr style=\"text-align: right;\">\n",
       "      <th></th>\n",
       "      <th>facility_address</th>\n",
       "      <th>incident_address</th>\n",
       "      <th>Total_Miles</th>\n",
       "      <th>Total_TravelTime</th>\n",
       "    </tr>\n",
       "  </thead>\n",
       "  <tbody>\n",
       "    <tr>\n",
       "      <th>0</th>\n",
       "      <td>Estrada Adhemar Bebiano, 339 Del Castilho, Rio...</td>\n",
       "      <td>Rua Tangapeme 2-50, Complexo do Alemão, Rio de...</td>\n",
       "      <td>1.874253</td>\n",
       "      <td>7.554929</td>\n",
       "    </tr>\n",
       "    <tr>\n",
       "      <th>1</th>\n",
       "      <td>R. José dos Reis Engenho de Dentro, Rio de Jan...</td>\n",
       "      <td>Rua Tangapeme 2-50, Complexo do Alemão, Rio de...</td>\n",
       "      <td>3.245091</td>\n",
       "      <td>12.202391</td>\n",
       "    </tr>\n",
       "    <tr>\n",
       "      <th>2</th>\n",
       "      <td>R. Dezessete, s/n Maré, Rio de Janeiro RJ, 210...</td>\n",
       "      <td>Rua Tangapeme 2-50, Complexo do Alemão, Rio de...</td>\n",
       "      <td>4.016698</td>\n",
       "      <td>14.337250</td>\n",
       "    </tr>\n",
       "    <tr>\n",
       "      <th>3</th>\n",
       "      <td>Rua Dr. Miguel Vieira Ferreira, 266 Ramos, Rio...</td>\n",
       "      <td>Rua Tangapeme 2-50, Complexo do Alemão, Rio de...</td>\n",
       "      <td>5.681533</td>\n",
       "      <td>18.793156</td>\n",
       "    </tr>\n",
       "  </tbody>\n",
       "</table>\n",
       "</div>"
      ],
      "text/plain": [
       "                                    facility_address  \\\n",
       "0  Estrada Adhemar Bebiano, 339 Del Castilho, Rio...   \n",
       "1  R. José dos Reis Engenho de Dentro, Rio de Jan...   \n",
       "2  R. Dezessete, s/n Maré, Rio de Janeiro RJ, 210...   \n",
       "3  Rua Dr. Miguel Vieira Ferreira, 266 Ramos, Rio...   \n",
       "\n",
       "                                    incident_address  Total_Miles  \\\n",
       "0  Rua Tangapeme 2-50, Complexo do Alemão, Rio de...     1.874253   \n",
       "1  Rua Tangapeme 2-50, Complexo do Alemão, Rio de...     3.245091   \n",
       "2  Rua Tangapeme 2-50, Complexo do Alemão, Rio de...     4.016698   \n",
       "3  Rua Tangapeme 2-50, Complexo do Alemão, Rio de...     5.681533   \n",
       "\n",
       "   Total_TravelTime  \n",
       "0          7.554929  \n",
       "1         12.202391  \n",
       "2         14.337250  \n",
       "3         18.793156  "
      ]
     },
     "execution_count": 26,
     "metadata": {},
     "output_type": "execute_result"
    }
   ],
   "source": [
    "df1[['facility_address','incident_address','Total_Miles','Total_TravelTime']]"
   ]
  },
  {
   "cell_type": "code",
   "execution_count": null,
   "metadata": {},
   "outputs": [],
   "source": []
  }
 ],
 "metadata": {
  "kernelspec": {
   "display_name": "Python 3",
   "language": "python",
   "name": "python3"
  },
  "language_info": {
   "codemirror_mode": {
    "name": "ipython",
    "version": 3
   },
   "file_extension": ".py",
   "mimetype": "text/x-python",
   "name": "python",
   "nbconvert_exporter": "python",
   "pygments_lexer": "ipython3",
   "version": "3.6.5"
  }
 },
 "nbformat": 4,
 "nbformat_minor": 2
}
