{
 "cells": [
  {
   "cell_type": "markdown",
   "metadata": {
    "slideshow": {
     "slide_type": "slide"
    }
   },
   "source": [
    "# <span style=\"color:purple\">ArcGIS API for Python</span>\n",
    "\n",
    "<img src=\"images/Users_02_Admin.PNG\" style=\"width:75%\"></img>\n",
    "\n",
    "## Demo: Administrative Management of Users, Roles & Groups"
   ]
  },
  {
   "cell_type": "markdown",
   "metadata": {},
   "source": [
    "### We will go over a few workflows to show how the ArcGIS API can help administrators of Web GIS."
   ]
  },
  {
   "cell_type": "markdown",
   "metadata": {},
   "source": [
    "Let's import a few modules. We are importing getpass to provide the GIS object with a password in a safe manner."
   ]
  },
  {
   "cell_type": "code",
   "execution_count": 3,
   "metadata": {},
   "outputs": [],
   "source": [
    "from arcgis.gis import *\n",
    "from getpass import getpass\n",
    "from IPython.display import display"
   ]
  },
  {
   "cell_type": "markdown",
   "metadata": {},
   "source": [
    "Let's call our GIS object and pass a local Portal."
   ]
  },
  {
   "cell_type": "code",
   "execution_count": 4,
   "metadata": {},
   "outputs": [
    {
     "name": "stdout",
     "output_type": "stream",
     "text": [
      "········\n"
     ]
    }
   ],
   "source": [
    "password = getpass()\n",
    "gis = GIS(\"https://martinez10.esri.com/portal/home/\", \"dmartinez\", password, verify_cert=False)"
   ]
  },
  {
   "cell_type": "code",
   "execution_count": 6,
   "metadata": {},
   "outputs": [
    {
     "data": {
      "text/html": [
       "GIS @ <a href=\"https://martinez10.esri.com/portal/home/\">https://martinez10.esri.com/portal/home/</a>"
      ],
      "text/plain": [
       "GIS @ https://martinez10.esri.com/portal/home/ version:6.1"
      ]
     },
     "execution_count": 6,
     "metadata": {},
     "output_type": "execute_result"
    }
   ],
   "source": [
    "gis"
   ]
  },
  {
   "cell_type": "markdown",
   "metadata": {},
   "source": [
    "### Querying for users"
   ]
  },
  {
   "cell_type": "markdown",
   "metadata": {},
   "source": [
    "Let's run a full query for listed users:"
   ]
  },
  {
   "cell_type": "code",
   "execution_count": 7,
   "metadata": {},
   "outputs": [
    {
     "data": {
      "text/plain": [
       "[<User username:admin>,\n",
       " <User username:dmartinez>,\n",
       " <User username:esri_boundaries>,\n",
       " <User username:esri_demographics>,\n",
       " <User username:esri_livingatlas>,\n",
       " <User username:esri_nav>,\n",
       " <User username:system_publisher>]"
      ]
     },
     "execution_count": 7,
     "metadata": {},
     "output_type": "execute_result"
    }
   ],
   "source": [
    "gis.users.search()"
   ]
  },
  {
   "cell_type": "code",
   "execution_count": 8,
   "metadata": {},
   "outputs": [
    {
     "data": {
      "text/html": [
       "<div class=\"9item_container\" style=\"height: auto; overflow: hidden; border: 1px solid #cfcfcf; border-radius: 2px; background: #f6fafa; line-height: 1.21429em; padding: 10px;\">\n",
       "                    <div class=\"item_left\" style=\"width: 210px; float: left;\">\n",
       "                       <a href='https://martinez10.esri.com/portal/home//home/user.html?user=dmartinez' target='_blank'>\n",
       "                        <img src='https://martinez10.esri.com/portal/home//home/js/arcgisonline/css/images/no-user-thumb.jpg' class=\"itemThumbnail\">\n",
       "                       </a>\n",
       "                    </div>\n",
       "\n",
       "                    <div class=\"item_right\" style=\"float: none; width: auto; overflow: hidden;\">\n",
       "                        <a href='https://martinez10.esri.com/portal/home//home/user.html?user=dmartinez' target='_blank'><b>David Martinez</b>\n",
       "                        </a>\n",
       "                        <br/><br/><b>Bio</b>: None\n",
       "                        <br/><b>First Name</b>: David\n",
       "                        <br/><b>Last Name</b>: Martinez\n",
       "                        <br/><b>Username</b>: dmartinez\n",
       "                        <br/><b>Joined</b>: February 27, 2019\n",
       "\n",
       "                    </div>\n",
       "                </div>\n",
       "                "
      ],
      "text/plain": [
       "<User username:dmartinez>"
      ]
     },
     "execution_count": 8,
     "metadata": {},
     "output_type": "execute_result"
    }
   ],
   "source": [
    "gis.users.me"
   ]
  },
  {
   "cell_type": "markdown",
   "metadata": {},
   "source": [
    "Filter your user search..."
   ]
  },
  {
   "cell_type": "code",
   "execution_count": 9,
   "metadata": {},
   "outputs": [
    {
     "data": {
      "text/plain": [
       "[<User username:admin>, <User username:dmartinez>]"
      ]
     },
     "execution_count": 9,
     "metadata": {},
     "output_type": "execute_result"
    }
   ],
   "source": [
    "gis.users.search(\"martinez\")"
   ]
  },
  {
   "cell_type": "markdown",
   "metadata": {},
   "source": [
    "Let's search for my colleague, Matt"
   ]
  },
  {
   "cell_type": "code",
   "execution_count": 11,
   "metadata": {},
   "outputs": [
    {
     "data": {
      "text/plain": [
       "[<User username:admin>]"
      ]
     },
     "execution_count": 11,
     "metadata": {},
     "output_type": "execute_result"
    }
   ],
   "source": [
    "gis.users.search(\"admin\")"
   ]
  },
  {
   "cell_type": "markdown",
   "metadata": {},
   "source": [
    "### Create a new user"
   ]
  },
  {
   "cell_type": "markdown",
   "metadata": {},
   "source": [
    "Users can be created through the API"
   ]
  },
  {
   "cell_type": "code",
   "execution_count": 2,
   "metadata": {},
   "outputs": [
    {
     "name": "stdout",
     "output_type": "stream",
     "text": [
      "Object `gis.users.create` not found.\n"
     ]
    }
   ],
   "source": [
    "gis.users.create?"
   ]
  },
  {
   "cell_type": "code",
   "execution_count": 13,
   "metadata": {},
   "outputs": [
    {
     "data": {
      "text/html": [
       "<div class=\"9item_container\" style=\"height: auto; overflow: hidden; border: 1px solid #cfcfcf; border-radius: 2px; background: #f6fafa; line-height: 1.21429em; padding: 10px;\">\n",
       "                    <div class=\"item_left\" style=\"width: 210px; float: left;\">\n",
       "                       <a href='https://martinez10.esri.com/portal/home//home/user.html?user=kal-el' target='_blank'>\n",
       "                        <img src='https://martinez10.esri.com/portal/home//home/js/arcgisonline/css/images/no-user-thumb.jpg' class=\"itemThumbnail\">\n",
       "                       </a>\n",
       "                    </div>\n",
       "\n",
       "                    <div class=\"item_right\" style=\"float: none; width: auto; overflow: hidden;\">\n",
       "                        <a href='https://martinez10.esri.com/portal/home//home/user.html?user=kal-el' target='_blank'><b>clark kent</b>\n",
       "                        </a>\n",
       "                        <br/><br/><b>Bio</b>: hello devsummit attendees\n",
       "                        <br/><b>First Name</b>: clark\n",
       "                        <br/><b>Last Name</b>: kent\n",
       "                        <br/><b>Username</b>: kal-el\n",
       "                        <br/><b>Joined</b>: March 05, 2019\n",
       "\n",
       "                    </div>\n",
       "                </div>\n",
       "                "
      ],
      "text/plain": [
       "<User username:kal-el>"
      ]
     },
     "execution_count": 13,
     "metadata": {},
     "output_type": "execute_result"
    }
   ],
   "source": [
    "clark = gis.users.create(username = \"kal-el\", \n",
    "                           password=\"test106xyz3\", \n",
    "                          firstname=\"clark\", \n",
    "                          lastname=\"kent\",\n",
    "                         description=\"hello devsummit attendees\",\n",
    "                          email=\"tester@esri.com\",  \n",
    "                         role='org_publisher')\n",
    "clark"
   ]
  },
  {
   "cell_type": "markdown",
   "metadata": {},
   "source": [
    "This variable is now a \"user\" object"
   ]
  },
  {
   "cell_type": "code",
   "execution_count": 20,
   "metadata": {},
   "outputs": [
    {
     "data": {
      "text/plain": [
       "arcgis.gis.User"
      ]
     },
     "execution_count": 20,
     "metadata": {},
     "output_type": "execute_result"
    }
   ],
   "source": [
    "type(clark)"
   ]
  },
  {
   "cell_type": "markdown",
   "metadata": {},
   "source": [
    "Use intellisense to see all the options you have available with user objects."
   ]
  },
  {
   "cell_type": "code",
   "execution_count": 14,
   "metadata": {},
   "outputs": [
    {
     "data": {
      "text/plain": [
       "'hello devsummit attendees'"
      ]
     },
     "execution_count": 14,
     "metadata": {},
     "output_type": "execute_result"
    }
   ],
   "source": [
    "clark.description"
   ]
  },
  {
   "cell_type": "code",
   "execution_count": 15,
   "metadata": {},
   "outputs": [
    {
     "data": {
      "text/plain": [
       "'tester@esri.com'"
      ]
     },
     "execution_count": 15,
     "metadata": {},
     "output_type": "execute_result"
    }
   ],
   "source": [
    "clark.email"
   ]
  },
  {
   "cell_type": "code",
   "execution_count": 16,
   "metadata": {
    "scrolled": true
   },
   "outputs": [
    {
     "data": {
      "text/plain": [
       "True"
      ]
     },
     "execution_count": 16,
     "metadata": {},
     "output_type": "execute_result"
    }
   ],
   "source": [
    "clark.delete()"
   ]
  },
  {
   "cell_type": "markdown",
   "metadata": {},
   "source": [
    "### Querying for groups"
   ]
  },
  {
   "cell_type": "code",
   "execution_count": 17,
   "metadata": {},
   "outputs": [
    {
     "data": {
      "text/plain": [
       "[<Group title:\"Esri Boundary Layers\" owner:esri_boundaries>,\n",
       " <Group title:\"Esri Demographic Layers\" owner:esri_demographics>,\n",
       " <Group title:\"Featured Maps and Apps\" owner:admin>,\n",
       " <Group title:\"Living Atlas\" owner:esri_livingatlas>,\n",
       " <Group title:\"Living Atlas Analysis Layers\" owner:esri_livingatlas>,\n",
       " <Group title:\"Navigator Maps\" owner:esri_nav>]"
      ]
     },
     "execution_count": 17,
     "metadata": {},
     "output_type": "execute_result"
    }
   ],
   "source": [
    "gis.groups.search()"
   ]
  },
  {
   "cell_type": "markdown",
   "metadata": {},
   "source": [
    "Let's create the group"
   ]
  },
  {
   "cell_type": "code",
   "execution_count": 5,
   "metadata": {},
   "outputs": [],
   "source": [
    "gis.groups.create?"
   ]
  },
  {
   "cell_type": "code",
   "execution_count": 18,
   "metadata": {
    "scrolled": true
   },
   "outputs": [],
   "source": [
    "# create groups\n",
    "demo_group = gis.groups.create(\"PS2019\", \"Demo; DC\")"
   ]
  },
  {
   "cell_type": "markdown",
   "metadata": {},
   "source": [
    "This is a \"group\" object"
   ]
  },
  {
   "cell_type": "code",
   "execution_count": 19,
   "metadata": {},
   "outputs": [],
   "source": [
    "demo_group?"
   ]
  },
  {
   "cell_type": "code",
   "execution_count": 18,
   "metadata": {
    "scrolled": true
   },
   "outputs": [
    {
     "data": {
      "text/html": [
       "<div class=\"9item_container\" style=\"height: auto; overflow: hidden; border: 1px solid #cfcfcf; border-radius: 2px; background: #f6fafa; line-height: 1.21429em; padding: 10px;\">\n",
       "                    <div class=\"item_left\" style=\"width: 210px; float: left;\">\n",
       "                       <a href='https://martinez10.esri.com/arcgis/home//home/group.html?id=2742e6e87ef24101845534f62dbe4c04' target='_blank'>\n",
       "                        <img src='https://martinez10.esri.com/arcgis/home//home/images/group-no-image.png' class=\"itemThumbnail\">\n",
       "                       </a>\n",
       "                    </div>\n",
       "\n",
       "                    <div class=\"item_right\" style=\"float: none; width: auto; overflow: hidden;\">\n",
       "                        <a href='https://martinez10.esri.com/arcgis/home//home/group.html?id=2742e6e87ef24101845534f62dbe4c04' target='_blank'><b>DC2019</b>\n",
       "                        </a>\n",
       "                        <br/>\n",
       "                        <br/><b>Summary</b>: None\n",
       "                        <br/><b>Description</b>: None\n",
       "                        <br/><b>Owner</b>: dmart\n",
       "                        <br/><b>Created</b>: February 07, 2019\n",
       "\n",
       "                    </div>\n",
       "                </div>\n",
       "                "
      ],
      "text/plain": [
       "<Group title:\"DC2019\" owner:dmart>"
      ]
     },
     "execution_count": 18,
     "metadata": {},
     "output_type": "execute_result"
    }
   ],
   "source": [
    "demo_group"
   ]
  },
  {
   "cell_type": "code",
   "execution_count": 20,
   "metadata": {},
   "outputs": [
    {
     "data": {
      "text/plain": [
       "arcgis.gis.Group"
      ]
     },
     "execution_count": 20,
     "metadata": {},
     "output_type": "execute_result"
    }
   ],
   "source": [
    "type(demo_group)"
   ]
  },
  {
   "cell_type": "markdown",
   "metadata": {},
   "source": [
    "Like the user object, it has methods we can call on it"
   ]
  },
  {
   "cell_type": "code",
   "execution_count": 21,
   "metadata": {},
   "outputs": [
    {
     "data": {
      "text/plain": [
       "'public'"
      ]
     },
     "execution_count": 21,
     "metadata": {},
     "output_type": "execute_result"
    }
   ],
   "source": [
    "demo_group.access"
   ]
  },
  {
   "cell_type": "markdown",
   "metadata": {},
   "source": [
    "# Let's say your boss suddenly gets an idea!\n",
    "\n",
    "<img src=\"images/idea.jpg\" height=\"600\" width=\"600\">\n",
    "\n",
    "## Boss:\n",
    "## \"I want you to create a new portal, with new users from our regional teams and mulitple groups and make every member is part of their groups. \n",
    "## \"And I need this before you go home.\""
   ]
  },
  {
   "cell_type": "markdown",
   "metadata": {},
   "source": [
    "<img src=\"images/worriedsmile.png\" height=\"400\" width=\"400\"></img>"
   ]
  },
  {
   "cell_type": "markdown",
   "metadata": {},
   "source": [
    "## Have no fear! The ArcGIS API for Python is here to help."
   ]
  },
  {
   "cell_type": "markdown",
   "metadata": {},
   "source": [
    "We're going to import some libraries to help us"
   ]
  },
  {
   "cell_type": "code",
   "execution_count": 22,
   "metadata": {},
   "outputs": [],
   "source": [
    "import csv \n",
    "import json"
   ]
  },
  {
   "cell_type": "markdown",
   "metadata": {},
   "source": [
    "# Create Groups"
   ]
  },
  {
   "cell_type": "code",
   "execution_count": 23,
   "metadata": {},
   "outputs": [],
   "source": [
    "def create_groups():\n",
    "    print(\"CREATING GROUPS\")\n",
    "\n",
    "    with open(\"groups.csv\", 'r') as groups_csv:\n",
    "        groups = csv.DictReader(groups_csv)\n",
    "        for group in groups:\n",
    "            try:\n",
    "                print(\" Creating group: \", group['title'], end=\"  ##  \")\n",
    "                result = gis.groups.create_from_dict(group)\n",
    "                if result:\n",
    "                    print(\"success\")\n",
    "            except Exception as create_ex:\n",
    "                print(\"Error... \", str(create_ex))"
   ]
  },
  {
   "cell_type": "markdown",
   "metadata": {},
   "source": [
    "# Add Users"
   ]
  },
  {
   "cell_type": "code",
   "execution_count": 24,
   "metadata": {},
   "outputs": [],
   "source": [
    "def create_users():\n",
    "    # loop through and create users\n",
    "    with open(\"users.csv\", 'r') as users_csv:\n",
    "        users = csv.DictReader(users_csv)\n",
    "        for user in users:\n",
    "            try:\n",
    "                print(\"Creating user: \", user['username'], end=\" ## \")\n",
    "                result = gis.users.create(username=user['username'],\n",
    "                                          password=user['password'],\n",
    "                                          firstname=user['Firstname'],\n",
    "                                          lastname=user['Lastname'],\n",
    "                                          email=user['email'],\n",
    "                                          role =user['role'])\n",
    "                if result:\n",
    "                    print(\"success  ##\")\n",
    "\n",
    "                    print(\"\\t Adding to groups: \", end=\" # \")\n",
    "                    groups = user['groups']\n",
    "                    group_list = groups.split(\",\")\n",
    "\n",
    "                    # Search for the group\n",
    "                    for g in group_list:\n",
    "                        group_search = gis.groups.search(g)\n",
    "                        if len(group_search) > 0:\n",
    "                            try:\n",
    "                                group = group_search[0]\n",
    "                                groups_result = group.add_users([user['username']])\n",
    "                                if len(groups_result['notAdded']) == 0:\n",
    "                                    print(g, end =\" # \")\n",
    "\n",
    "                            except Exception as groups_ex:\n",
    "                                print(\"\\n \\t Cannot add user to group \", g, str(groups_ex))\n",
    "                    print(\"\\n\")\n",
    "\n",
    "            except Exception as add_ex:\n",
    "                print(\"Cannot create user: \" + user['username'])\n",
    "                print(str(add_ex))"
   ]
  },
  {
   "cell_type": "markdown",
   "metadata": {},
   "source": [
    "# Publish Content"
   ]
  },
  {
   "cell_type": "code",
   "execution_count": 25,
   "metadata": {},
   "outputs": [],
   "source": [
    "def publish_content():\n",
    "    # Read the csv containing user accounts and their territory info\n",
    "    csv_path = \"users.csv\"\n",
    "\n",
    "    # Read template web map\n",
    "    template_webmap_dict = dict()\n",
    "    with open('.\\\\user_content\\\\web_map.json', 'r') as webmap_file:\n",
    "                template_webmap_dict = json.load(webmap_file)\n",
    "\n",
    "    # Loop through each user and publish the content\n",
    "    with open(csv_path, 'r') as csv_handle:\n",
    "        reader = csv.DictReader(csv_handle)\n",
    "        for row in reader:\n",
    "            try:\n",
    "                data_to_publish = '.\\\\user_content\\\\' + row['assigned_state'] + \".csv\"\n",
    "\n",
    "                print(\"Publishing \", data_to_publish, end = \" # \")\n",
    "                added_item = gis.content.add({}, data = data_to_publish)\n",
    "                published_layer = added_item.publish()\n",
    "\n",
    "                if published_layer is not None:\n",
    "                    # publish web map\n",
    "                    print('webmaps', end= \" ## \")\n",
    "                    user_webmap_dict = template_webmap_dict\n",
    "                    user_webmap_dict['operationalLayers'][0].update({'itemId': published_layer.itemid,\n",
    "                                                                     'layerType': \"ArcGISFeatureLayer\",\n",
    "                                                                     'title': published_layer.title,\n",
    "                                                                     'url': published_layer.url + r\"/0\"})\n",
    "\n",
    "                    web_map_properties = {'title': '{0} {1} response locations'.format(row['Firstname'], row['Lastname']),\n",
    "                                          'type': 'Web Map',\n",
    "                                          'snippet': 'Areas affected by Hurricane Matthew under the supervision of' +\\\n",
    "                                                     '{0} {1}'.format(row['Firstname'], row['Lastname']),\n",
    "                                          'tags': 'ArcGIS Python API',\n",
    "                                          'typeKeywords' : \"Collector, Explorer Web Map, Web Map, Map, Online Map\",\n",
    "                                          'text': json.dumps(user_webmap_dict)}\n",
    "\n",
    "                    web_map_item = gis.content.add(web_map_properties)\n",
    "\n",
    "                    print(\"success. Assigning to: \", end=\"  #  \")\n",
    "                    result1 = published_layer.reassign_to(row['username'])\n",
    "                    result2 = web_map_item.reassign_to(row['username'])\n",
    "                    if (result1 and result2) is not None:\n",
    "                        print(row['username'])\n",
    "                    else:\n",
    "                        print(\"error\")\n",
    "                else:\n",
    "                    print(\" error publishing csv\")\n",
    "\n",
    "            except Exception as pub_ex:\n",
    "                print(\"Error : \", str(pub_ex))"
   ]
  },
  {
   "cell_type": "markdown",
   "metadata": {},
   "source": [
    "# Customize the UX"
   ]
  },
  {
   "cell_type": "code",
   "execution_count": 26,
   "metadata": {},
   "outputs": [],
   "source": [
    "def set_theme():\n",
    "    \n",
    "    folder = r'helper_files'\n",
    "    gis.admin.ux.set_logo(folder + r'\\logo\\dc_logo.png')\n",
    "    gis.admin.ux.set_background(is_built_in=False)\n",
    "    gis.admin.ux.set_banner(folder + r'\\baked_banner\\washingtondc_banner.png')\n",
    "    gis.admin.ux.name = \"Washington DC\"\n",
    "    gis.admin.ux.description = \"Washington DC\""
   ]
  },
  {
   "cell_type": "code",
   "execution_count": 27,
   "metadata": {},
   "outputs": [
    {
     "name": "stdout",
     "output_type": "stream",
     "text": [
      "CREATING GROUPS\n",
      " Creating group:  Basemaps  ##  success\n",
      " Creating group:  Central Services  ##  success\n",
      " Creating group:  Compliance  ##  success\n",
      " Creating group:  Customer Service, Finance, Billing and Accounting  ##  success\n",
      " Creating group:  Demographic Content  ##  success\n",
      "Creating user:  matthias.schenker ## success  ##\n",
      "\t Adding to groups:  # Basemaps #  Central Services # \n",
      "\n",
      "Creating user:  jorge.barrachina ## success  ##\n",
      "\t Adding to groups:  # Basemaps #  Central Services # \n",
      "\n",
      "Creating user:  sean.mcgee ## success  ##\n",
      "\t Adding to groups:  # Basemaps #  Customer Service # \n",
      "\n",
      "Creating user:  mark.jagt ## success  ##\n",
      "\t Adding to groups:  # Basemaps #  Central Services # \n",
      "\n",
      "Creating user:  gavin.rehkemper ## success  ##\n",
      "\t Adding to groups:  # Basemaps #  Central Services # \n",
      "\n",
      "Creating user:  rene.rubalcava ## success  ##\n",
      "\t Adding to groups:  # Basemaps #  Central Services # \n",
      "\n",
      "Creating user:  gerhard.trichtl ## success  ##\n",
      "\t Adding to groups:  # Basemaps #  Customer Service # \n",
      "\n",
      "Creating user:  stephan.kunster ## success  ##\n",
      "\t Adding to groups:  # Basemaps #  Central Services # \n",
      "\n",
      "Creating user:  raul.jimenez ## success  ##\n",
      "\t Adding to groups:  # Basemaps #  Compliance #  Central Services # \n",
      "\n",
      "Publishing  .\\user_content\\KS.csv # webmaps ## success. Assigning to:   #  matthias.schenker\n",
      "Publishing  .\\user_content\\NV.csv # webmaps ## success. Assigning to:   #  jorge.barrachina\n",
      "Publishing  .\\user_content\\DE.csv # webmaps ## success. Assigning to:   #  sean.mcgee\n",
      "Publishing  .\\user_content\\IN.csv # webmaps ## success. Assigning to:   #  mark.jagt\n",
      "Publishing  .\\user_content\\NC.csv # webmaps ## success. Assigning to:   #  gavin.rehkemper\n",
      "Publishing  .\\user_content\\AR.csv # webmaps ## success. Assigning to:   #  rene.rubalcava\n",
      "Publishing  .\\user_content\\PA.csv # webmaps ## success. Assigning to:   #  gerhard.trichtl\n",
      "Publishing  .\\user_content\\FL.csv # webmaps ## success. Assigning to:   #  stephan.kunster\n",
      "Publishing  .\\user_content\\NH.csv # webmaps ## success. Assigning to:   #  raul.jimenez\n"
     ]
    }
   ],
   "source": [
    "set_theme()\n",
    "create_groups()\n",
    "create_users()\n",
    "publish_content()"
   ]
  },
  {
   "cell_type": "markdown",
   "metadata": {},
   "source": [
    "## \"We just found out that we have to remove every user from our Portal as we have to use it for another urgent project.\n"
   ]
  },
  {
   "cell_type": "markdown",
   "metadata": {},
   "source": [
    "## Good thing we have the ArcGIS API for Python to help."
   ]
  },
  {
   "cell_type": "markdown",
   "metadata": {},
   "source": [
    "We're going to run a clean up script(clean.py) in my local IDE(PyCharm) removing everything except the admin account and some groups. \n",
    "\n"
   ]
  },
  {
   "cell_type": "code",
   "execution_count": null,
   "metadata": {},
   "outputs": [],
   "source": []
  }
 ],
 "metadata": {
  "kernelspec": {
   "display_name": "Python 3",
   "language": "python",
   "name": "python3"
  },
  "language_info": {
   "codemirror_mode": {
    "name": "ipython",
    "version": 3
   },
   "file_extension": ".py",
   "mimetype": "text/x-python",
   "name": "python",
   "nbconvert_exporter": "python",
   "pygments_lexer": "ipython3",
   "version": "3.6.5"
  }
 },
 "nbformat": 4,
 "nbformat_minor": 2
}
