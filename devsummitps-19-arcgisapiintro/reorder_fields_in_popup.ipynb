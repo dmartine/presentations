{
 "cells": [
  {
   "cell_type": "markdown",
   "metadata": {},
   "source": [
    "# Reorder the Fields in Web Map Popup"
   ]
  },
  {
   "cell_type": "markdown",
   "metadata": {},
   "source": [
    "### Connect to the GIS"
   ]
  },
  {
   "cell_type": "code",
   "execution_count": 1,
   "metadata": {},
   "outputs": [],
   "source": [
    "from arcgis.gis import GIS\n",
    "\n",
    "g = GIS(\"url\", \"username\", \"password\")"
   ]
  },
  {
   "cell_type": "markdown",
   "metadata": {},
   "source": [
    "### Get the Web Map "
   ]
  },
  {
   "cell_type": "code",
   "execution_count": null,
   "metadata": {},
   "outputs": [],
   "source": [
    "wm = g.content.get('webmap id')\n",
    "wm"
   ]
  },
  {
   "cell_type": "markdown",
   "metadata": {},
   "source": [
    "### Get the Web Map Definition"
   ]
  },
  {
   "cell_type": "code",
   "execution_count": 3,
   "metadata": {},
   "outputs": [
    {
     "data": {
      "text/plain": [
       "{\n",
       "  \"operationalLayers\": [\n",
       "    {\n",
       "      \"id\": \"Haunted_Houses__Ghost_Tours_9619\",\n",
       "      \"layerType\": \"ArcGISFeatureLayer\",\n",
       "      \"url\": \"https://services1.arcgis.com/rxMuAi9NyHDn2zKX/arcgis/rest/services/Haunted_Houses__Ghost_Tours/FeatureServer/0\",\n",
       "      \"visibility\": true,\n",
       "      \"opacity\": 1,\n",
       "      \"title\": \"Haunted_Houses__Ghost_Tours\",\n",
       "      \"itemId\": \"aaa77c29c2104d65b39a191cc7247ae8\",\n",
       "      \"popupInfo\": {\n",
       "        \"title\": \"Haunted_Houses__Ghost_Tours\",\n",
       "        \"fieldInfos\": [\n",
       "          {\n",
       "            \"fieldName\": \"Haunted_House\",\n",
       "            \"label\": \"Haunted House\",\n",
       "            \"isEditable\": true,\n",
       "            \"tooltip\": \"\",\n",
       "            \"visible\": true,\n",
       "            \"stringFieldOption\": \"textbox\"\n",
       "          },\n",
       "          {\n",
       "            \"fieldName\": \"Longitude\",\n",
       "            \"label\": \"Longitude\",\n",
       "            \"isEditable\": true,\n",
       "            \"tooltip\": \"\",\n",
       "            \"visible\": true,\n",
       "            \"stringFieldOption\": \"textbox\",\n",
       "            \"format\": {\n",
       "              \"places\": 2,\n",
       "              \"digitSeparator\": true\n",
       "            }\n",
       "          },\n",
       "          {\n",
       "            \"fieldName\": \"Latitude\",\n",
       "            \"label\": \"Latitude\",\n",
       "            \"isEditable\": true,\n",
       "            \"tooltip\": \"\",\n",
       "            \"visible\": true,\n",
       "            \"stringFieldOption\": \"textbox\",\n",
       "            \"format\": {\n",
       "              \"places\": 2,\n",
       "              \"digitSeparator\": true\n",
       "            }\n",
       "          },\n",
       "          {\n",
       "            \"fieldName\": \"Address\",\n",
       "            \"label\": \"Address\",\n",
       "            \"isEditable\": true,\n",
       "            \"tooltip\": \"\",\n",
       "            \"visible\": true,\n",
       "            \"stringFieldOption\": \"textbox\"\n",
       "          },\n",
       "          {\n",
       "            \"fieldName\": \"FID\",\n",
       "            \"label\": \"FID\",\n",
       "            \"isEditable\": false,\n",
       "            \"tooltip\": \"\",\n",
       "            \"visible\": false,\n",
       "            \"stringFieldOption\": \"textbox\"\n",
       "          }\n",
       "        ],\n",
       "        \"description\": null,\n",
       "        \"showAttachments\": true,\n",
       "        \"mediaInfos\": []\n",
       "      }\n",
       "    }\n",
       "  ],\n",
       "  \"baseMap\": {\n",
       "    \"baseMapLayers\": [\n",
       "      {\n",
       "        \"id\": \"defaultBasemap\",\n",
       "        \"layerType\": \"ArcGISTiledMapServiceLayer\",\n",
       "        \"url\": \"https://services.arcgisonline.com/ArcGIS/rest/services/World_Topo_Map/MapServer\",\n",
       "        \"visibility\": true,\n",
       "        \"opacity\": 1,\n",
       "        \"title\": \"Topographic\"\n",
       "      }\n",
       "    ],\n",
       "    \"title\": \"Topographic\"\n",
       "  },\n",
       "  \"spatialReference\": {\n",
       "    \"wkid\": 102100,\n",
       "    \"latestWkid\": 3857\n",
       "  },\n",
       "  \"authoringApp\": \"WebMapViewer\",\n",
       "  \"authoringAppVersion\": \"6.4\",\n",
       "  \"version\": \"2.13\"\n",
       "}"
      ]
     },
     "execution_count": 3,
     "metadata": {},
     "output_type": "execute_result"
    }
   ],
   "source": [
    "from arcgis.mapping import WebMap\n",
    "wmap = WebMap(wm)\n",
    "wm_def = wmap.definition \n",
    "wm_def"
   ]
  },
  {
   "cell_type": "code",
   "execution_count": 4,
   "metadata": {},
   "outputs": [
    {
     "data": {
      "application/vnd.jupyter.widget-view+json": {
       "model_id": "cf34bcbbf97f41d992b3a68481678334",
       "version_major": 2,
       "version_minor": 0
      },
      "text/plain": [
       "MapView(layout=Layout(height='400px', width='100%'))"
      ]
     },
     "metadata": {},
     "output_type": "display_data"
    },
    {
     "data": {
      "text/html": [
       "<div class=\"map-static-img-preview-d71e4547-db9d-4955-b74e-202bd5ee0510\"><img src=\"\"></img></div>"
      ],
      "text/plain": [
       "<IPython.core.display.HTML object>"
      ]
     },
     "metadata": {},
     "output_type": "display_data"
    }
   ],
   "source": [
    "from arcgis.mapping import WebMap\n",
    "m = g.map(wm)\n",
    "m"
   ]
  },
  {
   "cell_type": "markdown",
   "metadata": {},
   "source": [
    "### Edit the Definition\n",
    "_You can reorder fields through the `fieldInfos` object, which is part of the `popupInfo` object in an `operationalLayer`.  This example edits the order of fields in the popup of the first operational layer._"
   ]
  },
  {
   "cell_type": "code",
   "execution_count": 5,
   "metadata": {},
   "outputs": [
    {
     "name": "stdout",
     "output_type": "stream",
     "text": [
      "0  Haunted_House       True\n",
      "1  Longitude           True\n",
      "2  Latitude            True\n",
      "3  Address             True\n",
      "4  FID                 False\n"
     ]
    }
   ],
   "source": [
    "lyr =  wm_def['operationalLayers'][0]\n",
    "lyr_popup = lyr['popupInfo']\n",
    "lyr_popup_flds = lyr_popup['fieldInfos']\n",
    "for i, fld in enumerate(lyr_popup_flds):\n",
    "    print(f\"{i:<3}{fld['fieldName']:20}{fld['visible']}\")"
   ]
  },
  {
   "cell_type": "code",
   "execution_count": 6,
   "metadata": {},
   "outputs": [],
   "source": [
    "lyr_popup_flds.insert(1, lyr_popup_flds[3])\n",
    "removed_field = lyr_popup_flds.pop(4)"
   ]
  },
  {
   "cell_type": "code",
   "execution_count": 7,
   "metadata": {},
   "outputs": [
    {
     "name": "stdout",
     "output_type": "stream",
     "text": [
      "0  Haunted_House       True\n",
      "1  Address             True\n",
      "2  Longitude           True\n",
      "3  Latitude            True\n",
      "4  FID                 False\n"
     ]
    }
   ],
   "source": [
    "lyr =  wm_def['operationalLayers'][0]\n",
    "lyr_popup = lyr['popupInfo']\n",
    "lyr_popup_flds = lyr_popup['fieldInfos']\n",
    "for i, fld in enumerate(lyr_popup_flds):\n",
    "    print(f\"{i:<3}{fld['fieldName']:20}{fld['visible']}\")"
   ]
  },
  {
   "cell_type": "markdown",
   "metadata": {},
   "source": [
    "### Verify changes to the Web Map Definition"
   ]
  },
  {
   "cell_type": "code",
   "execution_count": 8,
   "metadata": {},
   "outputs": [
    {
     "data": {
      "text/plain": [
       "{\n",
       "  \"operationalLayers\": [\n",
       "    {\n",
       "      \"id\": \"Haunted_Houses__Ghost_Tours_9619\",\n",
       "      \"layerType\": \"ArcGISFeatureLayer\",\n",
       "      \"url\": \"https://services1.arcgis.com/rxMuAi9NyHDn2zKX/arcgis/rest/services/Haunted_Houses__Ghost_Tours/FeatureServer/0\",\n",
       "      \"visibility\": true,\n",
       "      \"opacity\": 1,\n",
       "      \"title\": \"Haunted_Houses__Ghost_Tours\",\n",
       "      \"itemId\": \"aaa77c29c2104d65b39a191cc7247ae8\",\n",
       "      \"popupInfo\": {\n",
       "        \"title\": \"Haunted_Houses__Ghost_Tours\",\n",
       "        \"fieldInfos\": [\n",
       "          {\n",
       "            \"fieldName\": \"Haunted_House\",\n",
       "            \"label\": \"Haunted House\",\n",
       "            \"isEditable\": true,\n",
       "            \"tooltip\": \"\",\n",
       "            \"visible\": true,\n",
       "            \"stringFieldOption\": \"textbox\"\n",
       "          },\n",
       "          {\n",
       "            \"fieldName\": \"Address\",\n",
       "            \"label\": \"Address\",\n",
       "            \"isEditable\": true,\n",
       "            \"tooltip\": \"\",\n",
       "            \"visible\": true,\n",
       "            \"stringFieldOption\": \"textbox\"\n",
       "          },\n",
       "          {\n",
       "            \"fieldName\": \"Longitude\",\n",
       "            \"label\": \"Longitude\",\n",
       "            \"isEditable\": true,\n",
       "            \"tooltip\": \"\",\n",
       "            \"visible\": true,\n",
       "            \"stringFieldOption\": \"textbox\",\n",
       "            \"format\": {\n",
       "              \"places\": 2,\n",
       "              \"digitSeparator\": true\n",
       "            }\n",
       "          },\n",
       "          {\n",
       "            \"fieldName\": \"Latitude\",\n",
       "            \"label\": \"Latitude\",\n",
       "            \"isEditable\": true,\n",
       "            \"tooltip\": \"\",\n",
       "            \"visible\": true,\n",
       "            \"stringFieldOption\": \"textbox\",\n",
       "            \"format\": {\n",
       "              \"places\": 2,\n",
       "              \"digitSeparator\": true\n",
       "            }\n",
       "          },\n",
       "          {\n",
       "            \"fieldName\": \"FID\",\n",
       "            \"label\": \"FID\",\n",
       "            \"isEditable\": false,\n",
       "            \"tooltip\": \"\",\n",
       "            \"visible\": false,\n",
       "            \"stringFieldOption\": \"textbox\"\n",
       "          }\n",
       "        ],\n",
       "        \"description\": null,\n",
       "        \"showAttachments\": true,\n",
       "        \"mediaInfos\": []\n",
       "      }\n",
       "    }\n",
       "  ],\n",
       "  \"baseMap\": {\n",
       "    \"baseMapLayers\": [\n",
       "      {\n",
       "        \"id\": \"defaultBasemap\",\n",
       "        \"layerType\": \"ArcGISTiledMapServiceLayer\",\n",
       "        \"url\": \"https://services.arcgisonline.com/ArcGIS/rest/services/World_Topo_Map/MapServer\",\n",
       "        \"visibility\": true,\n",
       "        \"opacity\": 1,\n",
       "        \"title\": \"Topographic\"\n",
       "      }\n",
       "    ],\n",
       "    \"title\": \"Topographic\"\n",
       "  },\n",
       "  \"spatialReference\": {\n",
       "    \"wkid\": 102100,\n",
       "    \"latestWkid\": 3857\n",
       "  },\n",
       "  \"authoringApp\": \"WebMapViewer\",\n",
       "  \"authoringAppVersion\": \"6.4\",\n",
       "  \"version\": \"2.13\"\n",
       "}"
      ]
     },
     "execution_count": 8,
     "metadata": {},
     "output_type": "execute_result"
    }
   ],
   "source": [
    "wm_def"
   ]
  },
  {
   "cell_type": "markdown",
   "metadata": {},
   "source": [
    "### Update the Web Map Definition"
   ]
  },
  {
   "cell_type": "code",
   "execution_count": 9,
   "metadata": {},
   "outputs": [
    {
     "data": {
      "text/plain": [
       "True"
      ]
     },
     "execution_count": 9,
     "metadata": {},
     "output_type": "execute_result"
    }
   ],
   "source": [
    "wmap.update(item_properties=wm_def)"
   ]
  },
  {
   "cell_type": "code",
   "execution_count": 10,
   "metadata": {},
   "outputs": [
    {
     "data": {
      "application/vnd.jupyter.widget-view+json": {
       "model_id": "278c775056744bd380ae7ecbe7779b1a",
       "version_major": 2,
       "version_minor": 0
      },
      "text/plain": [
       "MapView(layout=Layout(height='400px', width='100%'))"
      ]
     },
     "metadata": {},
     "output_type": "display_data"
    },
    {
     "data": {
      "text/html": [
       "<div class=\"map-static-img-preview-f562ca10-49b0-4e00-af55-b1a30f1f60f6\"><img src=\"\"></img></div>"
      ],
      "text/plain": [
       "<IPython.core.display.HTML object>"
      ]
     },
     "metadata": {},
     "output_type": "display_data"
    }
   ],
   "source": [
    "m2 = g.map(wm)\n",
    "m2"
   ]
  },
  {
   "cell_type": "markdown",
   "metadata": {},
   "source": [
    " _**Visually inspect the popup in Map Viewer or other client**_"
   ]
  }
 ],
 "metadata": {
  "kernelspec": {
   "display_name": "Python 3",
   "language": "python",
   "name": "python3"
  },
  "language_info": {
   "codemirror_mode": {
    "name": "ipython",
    "version": 3
   },
   "file_extension": ".py",
   "mimetype": "text/x-python",
   "name": "python",
   "nbconvert_exporter": "python",
   "pygments_lexer": "ipython3",
   "version": "3.6.6"
  }
 },
 "nbformat": 4,
 "nbformat_minor": 2
}
