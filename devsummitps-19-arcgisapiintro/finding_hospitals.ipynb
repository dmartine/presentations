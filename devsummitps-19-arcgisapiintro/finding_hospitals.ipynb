{
 "cells": [
  {
   "cell_type": "markdown",
   "metadata": {},
   "source": [
    "# Find hospitals closest to an incident"
   ]
  },
  {
   "cell_type": "markdown",
   "metadata": {},
   "source": [
    "The `network` module of the ArcGIS API for Python can be used to solve different types of network analysis operations. In this sample, we see how to find the hospital that is closest to an incident.  "
   ]
  },
  {
   "cell_type": "markdown",
   "metadata": {},
   "source": [
    "## Closest facility"
   ]
  },
  {
   "cell_type": "markdown",
   "metadata": {},
   "source": [
    "The closest facility solver provides functionality for finding out the closest locations to a particular input point. This solver would be useful in cases when you have an incident and need to find the closest facility or need to get information on the travel time and the distance to each of the facilities from an incident point for reporting purposes.\n",
    "\n",
    "![](http://desktop.arcgis.com/en/arcmap/latest/extensions/network-analyst/GUID-96C273DB-6A24-4D42-AADA-975A33B44F3D-web.png)\n",
    "\n",
    "When finding closest facilities, you can specify how many to find and whether the direction of travel is toward or away from them. The closest facility solver displays the best routes between incidents and facilities, reports their travel costs, and returns driving directions."
   ]
  },
  {
   "cell_type": "markdown",
   "metadata": {},
   "source": [
    "## Table of Contents\n",
    "\n",
    "* [Connect to your GIS](#Connect-to-your-GIS)\n",
    "* [Create a Network Layer](#Create-a-Network-Layer)\n",
    "* [Create a Facilities Layer](#Create-a-Facilities-layer)\n",
    "* [Create Incidents Layer](#Create-Incidents-Layer)\n",
    "* [Solve for Closest Facility](#Solve-for-Closest-Facility)\n",
    "* [Analyze Results in a Table](#Analyze-Results-in-a-Table)\n",
    "* [Conclusion](#Conclusion)"
   ]
  },
  {
   "cell_type": "markdown",
   "metadata": {},
   "source": [
    "### Connect to your GIS\n",
    "As a first step, import the necessary libraries and establish a connection to your organization, which could be an ArcGIS Online organization or an ArcGIS Enterprise portal."
   ]
  },
  {
   "cell_type": "code",
   "execution_count": 3,
   "metadata": {},
   "outputs": [],
   "source": [
    "import traceback\n",
    "\n",
    "import pandas as pd\n",
    "from IPython.display import HTML\n",
    "\n",
    "from arcgis.gis import GIS\n",
    "from arcgis.network import ClosestFacilityLayer\n",
    "from arcgis import geocoding\n",
    "from arcgis.features import Feature, FeatureSet\n",
    "\n",
    "# Connect to your GIS\n",
    "gis = GIS(url_to_gis, username, password)"
   ]
  },
  {
   "cell_type": "markdown",
   "metadata": {},
   "source": [
    "### Create a Network Layer\n",
    "To perform any network analysis (such as finding the closest facility, the best route between multiple stops, or service area around a facility), you would need to create a `NetworkLayer` object. In this sample, since we are solving for closest facilities, we need to create a `ClosestFacilityLayer` which is a type of `NetworkLayer`.\n",
    "\n",
    "To create any `NetworkLayer` object, you would need to provide the URL to the appropriate network analysis service. Hence, in this sample, we provide a `ClosestFacility` URL to create a `ClosestFacilityLayer` object. \n",
    "\n",
    "Since all ArcGIS Online organizations already have access to those routing services, you can access this URL through the `GIS` object's `helperServices` property. If you have your own ArcGIS Server-based map service with network analysis capability enabled, provide the URL for this service.\n",
    "\n",
    "Let's start by checking to make sure we have our portal configured for Network Analysis, and getting the ClosestFacility URL from our `GIS`:"
   ]
  },
  {
   "cell_type": "code",
   "execution_count": 4,
   "metadata": {},
   "outputs": [
    {
     "name": "stdout",
     "output_type": "stream",
     "text": [
      "Closest Facility URL successfully retrieved\n"
     ]
    }
   ],
   "source": [
    "try:\n",
    "    analysis_url = gis.properties.helperServices.closestFacility.url\n",
    "    print(\"Closest Facility URL successfully retrieved\")\n",
    "except Exception as e:\n",
    "    traceback.print_exc()\n",
    "    raise Exception(f\"Network Analysis is not properly configured \"\\\n",
    "                    f\"on your Portal: {e}\")"
   ]
  },
  {
   "cell_type": "markdown",
   "metadata": {},
   "source": [
    "Create a `ClosestFacilityLayer` object from the `arcgis.network` module using the retrieved URL:"
   ]
  },
  {
   "cell_type": "code",
   "execution_count": 5,
   "metadata": {},
   "outputs": [],
   "source": [
    "cf_layer = ClosestFacilityLayer(analysis_url, gis = gis)"
   ]
  },
  {
   "cell_type": "markdown",
   "metadata": {},
   "source": [
    "### Create a Facilities layer\n",
    "In this sample, we will be looking for the closest hospital (facility) to an incident location. Even though we are interested in finding out the closest one, it would still be helpful to get the information on the distance and travel time to all of them for reference purposes.\n",
    "\n",
    "In the code below, we need to geocode the hospitals' addresses as well as do the reverse geocode for the incident location which has been supplied in the latitude/longitude format.\n",
    "\n",
    "To perform the geocode operations, we will use the `geocoding` module of the ArcGIS API."
   ]
  },
  {
   "cell_type": "markdown",
   "metadata": {},
   "source": [
    "In this sample, we geocode addresses of hospitals to create the facility layer. In your workflows, this could be any layer of facilities to route from an incident. In this scenario, we'll create a list of hospitals in the Coachella Valley region of southern California."
   ]
  },
  {
   "cell_type": "code",
   "execution_count": 6,
   "metadata": {},
   "outputs": [],
   "source": [
    "hospitals_addresses = [\n",
    "    'San Gorgonio Memorial Hospital,600 N. Highland Springs Ave.,'\\\n",
    "        'Banning,CA,92220',\n",
    "    'Desert Regional Medical Center,1150 N. Indian Canyon Dr.,'\\\n",
    "        'Palm Springs,CA,92262',\n",
    "    'JFK Memorial Hospital,47111 Monroe St.,Indio,CA,92201',\n",
    "    'Hi-Desert Medical Center,6601 White Feather Rd.,'\\\n",
    "        'Joshua Tree,CA,92252',\n",
    "    'Eisenhower Health,39000 Bob Hope Dr.,Rancho Mirage,CA,92270']"
   ]
  },
  {
   "cell_type": "markdown",
   "metadata": {},
   "source": [
    "Loop through each address and geocode it. The geocode operation returns a list of matches for each address. We pick the first result and extract the coordinates from it and construct a `Feature` object out of it. Then we combine all the `Feature`s representing the hospitals into a `FeatureSet` object."
   ]
  },
  {
   "cell_type": "code",
   "execution_count": 7,
   "metadata": {},
   "outputs": [],
   "source": [
    "hosp_feat_list = []\n",
    "\n",
    "for address in hospitals_addresses:\n",
    "    hit = geocoding.geocode(address)[0]\n",
    "    hosp_feat = Feature(geometry=hit['location'],\n",
    "                        attributes=hit['attributes'])\n",
    "    hosp_feat_list.append(hosp_feat)"
   ]
  },
  {
   "cell_type": "markdown",
   "metadata": {},
   "source": [
    "Construct a `FeatureSet` using each hospital `Feature`."
   ]
  },
  {
   "cell_type": "code",
   "execution_count": 8,
   "metadata": {},
   "outputs": [],
   "source": [
    "hospitals_fset = FeatureSet(features=hosp_feat_list, \n",
    "                            geometry_type='esriGeometryPoint', \n",
    "                            spatial_reference={'latestWkid': 4326})"
   ]
  },
  {
   "cell_type": "markdown",
   "metadata": {},
   "source": [
    "Let's draw our hospitals on a map"
   ]
  },
  {
   "cell_type": "code",
   "execution_count": 10,
   "metadata": {},
   "outputs": [
    {
     "name": "stdout",
     "output_type": "stream",
     "text": [
      "Enter password: ········\n"
     ]
    },
    {
     "data": {
      "application/vnd.jupyter.widget-view+json": {
       "model_id": "b33b597983634e99b6ee65b5c2534f5d",
       "version_major": 2,
       "version_minor": 0
      },
      "text/plain": [
       "MapView(layout=Layout(height='400px', width='100%'))"
      ]
     },
     "metadata": {},
     "output_type": "display_data"
    },
    {
     "data": {
      "text/html": [
       "<div class=\"map-static-img-preview-a7dd1e0f-170d-482b-a8dc-a9a7a6f5db5b\"><img src=\"\"></img></div>"
      ],
      "text/plain": [
       "<IPython.core.display.HTML object>"
      ]
     },
     "metadata": {},
     "output_type": "display_data"
    }
   ],
   "source": [
    "gis = GIS(\"https://idt.esri.com/portal\", \"jyaist_ds19\")\n",
    "map1 = gis.map('Palm Springs, CA')\n",
    "map1"
   ]
  },
  {
   "cell_type": "code",
   "execution_count": 11,
   "metadata": {},
   "outputs": [],
   "source": [
    "map1.zoom = 8"
   ]
  },
  {
   "cell_type": "code",
   "execution_count": 12,
   "metadata": {},
   "outputs": [],
   "source": [
    "map1.draw(hospitals_fset,\n",
    "          symbol={\"type\": \"esriSMS\",\"style\": \"esriSMSSquare\",\n",
    "                  \"color\": [76,115,0,255],\"size\": 8,})"
   ]
  },
  {
   "cell_type": "markdown",
   "metadata": {},
   "source": [
    "### Create Incidents Layer\n",
    "Similarly, let us create the incident layer"
   ]
  },
  {
   "cell_type": "code",
   "execution_count": 13,
   "metadata": {},
   "outputs": [],
   "source": [
    "incident_coords = '-116.391287,33.808053'\n",
    "reverse_geocode = geocoding.reverse_geocode(\n",
    "    {\"x\": incident_coords.split(',')[0], \n",
    "     \"y\": incident_coords.split(',')[1]})\n",
    "\n",
    "incident_feature = Feature(geometry=reverse_geocode['location'], \n",
    "                           attributes=reverse_geocode['address'])"
   ]
  },
  {
   "cell_type": "code",
   "execution_count": 14,
   "metadata": {},
   "outputs": [],
   "source": [
    "incident_fset = FeatureSet([incident_feature],\n",
    "                           geometry_type='esriGeometryPoint',\n",
    "                           spatial_reference={'latestWkid': 4326})"
   ]
  },
  {
   "cell_type": "markdown",
   "metadata": {},
   "source": [
    "Add the incident to the map"
   ]
  },
  {
   "cell_type": "code",
   "execution_count": 15,
   "metadata": {},
   "outputs": [],
   "source": [
    "map1.draw(incident_fset,\n",
    "          symbol={\"type\": \"esriSMS\",\"style\": \"esriSMSDiamond\",\n",
    "                  \"size\": 12, \"color\":[255,0,0,255]})"
   ]
  },
  {
   "cell_type": "markdown",
   "metadata": {},
   "source": [
    "### Solve for Closest Facility\n",
    "By default the closest facility service would return only the closest location, so we need to specify explicitly the `default_target_facility_count` parameter as well as `return_facilities` to get multiple results."
   ]
  },
  {
   "cell_type": "code",
   "execution_count": 16,
   "metadata": {},
   "outputs": [],
   "source": [
    "result = cf_layer.solve_closest_facility(\n",
    "    incidents=incident_fset,\n",
    "    facilities=hospitals_fset,\n",
    "    default_target_facility_count=5,\n",
    "    return_facilities=True,\n",
    "    impedance_attribute_name='TravelTime',\n",
    "    accumulate_attribute_names=['Kilometers','TravelTime'])"
   ]
  },
  {
   "cell_type": "markdown",
   "metadata": {},
   "source": [
    "Inspect the result dictionary"
   ]
  },
  {
   "cell_type": "code",
   "execution_count": 17,
   "metadata": {},
   "outputs": [
    {
     "data": {
      "text/plain": [
       "dict_keys(['messages', 'routes', 'facilities'])"
      ]
     },
     "execution_count": 17,
     "metadata": {},
     "output_type": "execute_result"
    }
   ],
   "source": [
    "result.keys()"
   ]
  },
  {
   "cell_type": "markdown",
   "metadata": {},
   "source": [
    "Let's use the `routes` dictionary to construct line features out of the routes to display on the map. From the `routes` dictionary will find out the proper key to get each route: the `features` key."
   ]
  },
  {
   "cell_type": "code",
   "execution_count": 18,
   "metadata": {},
   "outputs": [
    {
     "data": {
      "text/plain": [
       "dict_keys(['fieldAliases', 'geometryType', 'spatialReference', 'features'])"
      ]
     },
     "execution_count": 18,
     "metadata": {},
     "output_type": "execute_result"
    }
   ],
   "source": [
    "result['routes'].keys()"
   ]
  },
  {
   "cell_type": "code",
   "execution_count": 19,
   "metadata": {},
   "outputs": [
    {
     "data": {
      "text/plain": [
       "dict_keys(['attributes', 'geometry'])"
      ]
     },
     "execution_count": 19,
     "metadata": {},
     "output_type": "execute_result"
    }
   ],
   "source": [
    "result['routes']['features'][0].keys()"
   ]
  },
  {
   "cell_type": "markdown",
   "metadata": {},
   "source": [
    "Construct line features out of the routes that are returned."
   ]
  },
  {
   "cell_type": "code",
   "execution_count": 20,
   "metadata": {},
   "outputs": [],
   "source": [
    "line_feat_list = []\n",
    "for line_dict in result['routes']['features']:\n",
    "    f1 = Feature(line_dict['geometry'], line_dict['attributes'])\n",
    "    line_feat_list.append(f1)"
   ]
  },
  {
   "cell_type": "code",
   "execution_count": 21,
   "metadata": {},
   "outputs": [],
   "source": [
    "routes_fset = FeatureSet(line_feat_list, \n",
    "    geometry_type=result['routes']['geometryType'],\n",
    "    spatial_reference= result['routes']['spatialReference'])"
   ]
  },
  {
   "cell_type": "markdown",
   "metadata": {},
   "source": [
    "Add the routes back to the map. The route to the closest hospital is in red"
   ]
  },
  {
   "cell_type": "code",
   "execution_count": 22,
   "metadata": {},
   "outputs": [],
   "source": [
    "map1.draw(routes_fset)"
   ]
  },
  {
   "cell_type": "markdown",
   "metadata": {},
   "source": [
    "### Analyze Results in a Table\n",
    "Since we parsed the routes as a `FeatureSet`, we can display the attributes easily as a `pandas` `DataFrame`. We'll sort the dataframe according to the `Name` attribute of the `solve_closest_facility` task results."
   ]
  },
  {
   "cell_type": "code",
   "execution_count": 23,
   "metadata": {},
   "outputs": [
    {
     "data": {
      "text/html": [
       "<div>\n",
       "<style scoped>\n",
       "    .dataframe tbody tr th:only-of-type {\n",
       "        vertical-align: middle;\n",
       "    }\n",
       "\n",
       "    .dataframe tbody tr th {\n",
       "        vertical-align: top;\n",
       "    }\n",
       "\n",
       "    .dataframe thead th {\n",
       "        text-align: right;\n",
       "    }\n",
       "</style>\n",
       "<table border=\"1\" class=\"dataframe\">\n",
       "  <thead>\n",
       "    <tr style=\"text-align: right;\">\n",
       "      <th></th>\n",
       "      <th>FacilityCurbApproach</th>\n",
       "      <th>FacilityID</th>\n",
       "      <th>FacilityRank</th>\n",
       "      <th>IncidentCurbApproach</th>\n",
       "      <th>IncidentID</th>\n",
       "      <th>Name</th>\n",
       "      <th>ObjectID</th>\n",
       "      <th>SHAPE</th>\n",
       "      <th>Shape_Length</th>\n",
       "      <th>Total_Kilometers</th>\n",
       "      <th>Total_Miles</th>\n",
       "      <th>Total_TravelTime</th>\n",
       "    </tr>\n",
       "  </thead>\n",
       "  <tbody>\n",
       "    <tr>\n",
       "      <th>3</th>\n",
       "      <td>1</td>\n",
       "      <td>1</td>\n",
       "      <td>4</td>\n",
       "      <td>2</td>\n",
       "      <td>1</td>\n",
       "      <td>I-10 W - Location 1</td>\n",
       "      <td>4</td>\n",
       "      <td>{\"paths\": [[[-116.39135814899998, 33.807921482...</td>\n",
       "      <td>0.597683</td>\n",
       "      <td>56.731844</td>\n",
       "      <td>35.251534</td>\n",
       "      <td>34.454366</td>\n",
       "    </tr>\n",
       "    <tr>\n",
       "      <th>1</th>\n",
       "      <td>1</td>\n",
       "      <td>2</td>\n",
       "      <td>2</td>\n",
       "      <td>2</td>\n",
       "      <td>1</td>\n",
       "      <td>I-10 W - Location 2</td>\n",
       "      <td>2</td>\n",
       "      <td>{\"paths\": [[[-116.39135814899998, 33.807921482...</td>\n",
       "      <td>0.180008</td>\n",
       "      <td>17.331207</td>\n",
       "      <td>10.769113</td>\n",
       "      <td>16.149298</td>\n",
       "    </tr>\n",
       "    <tr>\n",
       "      <th>2</th>\n",
       "      <td>1</td>\n",
       "      <td>3</td>\n",
       "      <td>3</td>\n",
       "      <td>2</td>\n",
       "      <td>1</td>\n",
       "      <td>I-10 W - Location 3</td>\n",
       "      <td>3</td>\n",
       "      <td>{\"paths\": [[[-116.39135814899998, 33.807921482...</td>\n",
       "      <td>0.253096</td>\n",
       "      <td>24.967126</td>\n",
       "      <td>15.513853</td>\n",
       "      <td>19.268972</td>\n",
       "    </tr>\n",
       "    <tr>\n",
       "      <th>4</th>\n",
       "      <td>1</td>\n",
       "      <td>4</td>\n",
       "      <td>5</td>\n",
       "      <td>2</td>\n",
       "      <td>1</td>\n",
       "      <td>I-10 W - Location 4</td>\n",
       "      <td>5</td>\n",
       "      <td>{\"paths\": [[[-116.39135814899998, 33.807921482...</td>\n",
       "      <td>0.719424</td>\n",
       "      <td>70.715838</td>\n",
       "      <td>43.940785</td>\n",
       "      <td>49.228632</td>\n",
       "    </tr>\n",
       "    <tr>\n",
       "      <th>0</th>\n",
       "      <td>1</td>\n",
       "      <td>5</td>\n",
       "      <td>1</td>\n",
       "      <td>2</td>\n",
       "      <td>1</td>\n",
       "      <td>I-10 W - Location 5</td>\n",
       "      <td>1</td>\n",
       "      <td>{\"paths\": [[[-116.39135814899998, 33.807921482...</td>\n",
       "      <td>0.090572</td>\n",
       "      <td>9.728557</td>\n",
       "      <td>6.045045</td>\n",
       "      <td>9.620388</td>\n",
       "    </tr>\n",
       "  </tbody>\n",
       "</table>\n",
       "</div>"
      ],
      "text/plain": [
       "   FacilityCurbApproach  FacilityID  FacilityRank  IncidentCurbApproach  \\\n",
       "3                     1           1             4                     2   \n",
       "1                     1           2             2                     2   \n",
       "2                     1           3             3                     2   \n",
       "4                     1           4             5                     2   \n",
       "0                     1           5             1                     2   \n",
       "\n",
       "   IncidentID                 Name  ObjectID  \\\n",
       "3           1  I-10 W - Location 1         4   \n",
       "1           1  I-10 W - Location 2         2   \n",
       "2           1  I-10 W - Location 3         3   \n",
       "4           1  I-10 W - Location 4         5   \n",
       "0           1  I-10 W - Location 5         1   \n",
       "\n",
       "                                               SHAPE  Shape_Length  \\\n",
       "3  {\"paths\": [[[-116.39135814899998, 33.807921482...      0.597683   \n",
       "1  {\"paths\": [[[-116.39135814899998, 33.807921482...      0.180008   \n",
       "2  {\"paths\": [[[-116.39135814899998, 33.807921482...      0.253096   \n",
       "4  {\"paths\": [[[-116.39135814899998, 33.807921482...      0.719424   \n",
       "0  {\"paths\": [[[-116.39135814899998, 33.807921482...      0.090572   \n",
       "\n",
       "   Total_Kilometers  Total_Miles  Total_TravelTime  \n",
       "3         56.731844    35.251534         34.454366  \n",
       "1         17.331207    10.769113         16.149298  \n",
       "2         24.967126    15.513853         19.268972  \n",
       "4         70.715838    43.940785         49.228632  \n",
       "0          9.728557     6.045045          9.620388  "
      ]
     },
     "execution_count": 23,
     "metadata": {},
     "output_type": "execute_result"
    }
   ],
   "source": [
    "df1 = routes_fset.sdf.sort_values(by=['Name'])\n",
    "df1"
   ]
  },
  {
   "cell_type": "markdown",
   "metadata": {},
   "source": [
    "Add the hospital addresses and incident address to this table and display only the relevant columns"
   ]
  },
  {
   "cell_type": "code",
   "execution_count": 24,
   "metadata": {},
   "outputs": [],
   "source": [
    "df1['facility_address'] = hospitals_addresses\n",
    "df1['incident_address'] = [incident_feature.attributes['Match_addr'] \\\n",
    "                          for i in range(len(hospitals_addresses))]"
   ]
  },
  {
   "cell_type": "code",
   "execution_count": 25,
   "metadata": {},
   "outputs": [
    {
     "data": {
      "text/html": [
       "<div>\n",
       "<style scoped>\n",
       "    .dataframe tbody tr th:only-of-type {\n",
       "        vertical-align: middle;\n",
       "    }\n",
       "\n",
       "    .dataframe tbody tr th {\n",
       "        vertical-align: top;\n",
       "    }\n",
       "\n",
       "    .dataframe thead th {\n",
       "        text-align: right;\n",
       "    }\n",
       "</style>\n",
       "<table border=\"1\" class=\"dataframe\">\n",
       "  <thead>\n",
       "    <tr style=\"text-align: right;\">\n",
       "      <th></th>\n",
       "      <th>facility_address</th>\n",
       "      <th>incident_address</th>\n",
       "      <th>Total_Miles</th>\n",
       "      <th>Total_TravelTime</th>\n",
       "    </tr>\n",
       "  </thead>\n",
       "  <tbody>\n",
       "    <tr>\n",
       "      <th>0</th>\n",
       "      <td>Eisenhower Health,39000 Bob Hope Dr.,Rancho Mirage,CA,92270</td>\n",
       "      <td>I-10 W, Thousand Palms, California, 92276</td>\n",
       "      <td>6.045045</td>\n",
       "      <td>9.620388</td>\n",
       "    </tr>\n",
       "    <tr>\n",
       "      <th>1</th>\n",
       "      <td>Desert Regional Medical Center,1150 N. Indian Canyon Dr.,Palm Springs,CA,92262</td>\n",
       "      <td>I-10 W, Thousand Palms, California, 92276</td>\n",
       "      <td>10.769113</td>\n",
       "      <td>16.149298</td>\n",
       "    </tr>\n",
       "    <tr>\n",
       "      <th>2</th>\n",
       "      <td>JFK Memorial Hospital,47111 Monroe St.,Indio,CA,92201</td>\n",
       "      <td>I-10 W, Thousand Palms, California, 92276</td>\n",
       "      <td>15.513853</td>\n",
       "      <td>19.268972</td>\n",
       "    </tr>\n",
       "    <tr>\n",
       "      <th>3</th>\n",
       "      <td>San Gorgonio Memorial Hospital,600 N. Highland Springs Ave.,Banning,CA,92220</td>\n",
       "      <td>I-10 W, Thousand Palms, California, 92276</td>\n",
       "      <td>35.251534</td>\n",
       "      <td>34.454366</td>\n",
       "    </tr>\n",
       "    <tr>\n",
       "      <th>4</th>\n",
       "      <td>Hi-Desert Medical Center,6601 White Feather Rd.,Joshua Tree,CA,92252</td>\n",
       "      <td>I-10 W, Thousand Palms, California, 92276</td>\n",
       "      <td>43.940785</td>\n",
       "      <td>49.228632</td>\n",
       "    </tr>\n",
       "  </tbody>\n",
       "</table>\n",
       "</div>"
      ],
      "text/plain": [
       "                                                                 facility_address  \\\n",
       "0                     Eisenhower Health,39000 Bob Hope Dr.,Rancho Mirage,CA,92270   \n",
       "1  Desert Regional Medical Center,1150 N. Indian Canyon Dr.,Palm Springs,CA,92262   \n",
       "2                           JFK Memorial Hospital,47111 Monroe St.,Indio,CA,92201   \n",
       "3    San Gorgonio Memorial Hospital,600 N. Highland Springs Ave.,Banning,CA,92220   \n",
       "4            Hi-Desert Medical Center,6601 White Feather Rd.,Joshua Tree,CA,92252   \n",
       "\n",
       "                            incident_address  Total_Miles  Total_TravelTime  \n",
       "0  I-10 W, Thousand Palms, California, 92276     6.045045          9.620388  \n",
       "1  I-10 W, Thousand Palms, California, 92276    10.769113         16.149298  \n",
       "2  I-10 W, Thousand Palms, California, 92276    15.513853         19.268972  \n",
       "3  I-10 W, Thousand Palms, California, 92276    35.251534         34.454366  \n",
       "4  I-10 W, Thousand Palms, California, 92276    43.940785         49.228632  "
      ]
     },
     "execution_count": 25,
     "metadata": {},
     "output_type": "execute_result"
    }
   ],
   "source": [
    "pd.set_option('max_colwidth', 80)\n",
    "\n",
    "df1[['facility_address','incident_address','Total_Miles',\n",
    "     'Total_TravelTime']].sort_values(by=['Total_TravelTime'])\n"
   ]
  },
  {
   "cell_type": "markdown",
   "metadata": {},
   "source": [
    "### Conclusion\n",
    "Using the `network` module of the ArcGIS API for Python, you can solve for closest facilities from an incident location."
   ]
  }
 ],
 "metadata": {
  "anaconda-cloud": {},
  "kernelspec": {
   "display_name": "Python 3",
   "language": "python",
   "name": "python3"
  },
  "language_info": {
   "codemirror_mode": {
    "name": "ipython",
    "version": 3
   },
   "file_extension": ".py",
   "mimetype": "text/x-python",
   "name": "python",
   "nbconvert_exporter": "python",
   "pygments_lexer": "ipython3",
   "version": "3.6.6"
  }
 },
 "nbformat": 4,
 "nbformat_minor": 2
}
